{
 "cells": [
  {
   "cell_type": "markdown",
   "metadata": {
    "pycharm": {
     "name": "#%% md\n"
    }
   },
   "source": [
    "# Solving differential equations"
   ]
  },
  {
   "cell_type": "markdown",
   "metadata": {
    "pycharm": {
     "name": "#%% md\n"
    }
   },
   "source": [
    "This notebook aims at showing the use of the `DeSolver`."
   ]
  },
  {
   "cell_type": "code",
   "execution_count": 1,
   "metadata": {
    "pycharm": {
     "name": "#%%\n"
    }
   },
   "outputs": [],
   "source": [
    "# Necessary for dynamic plots\n",
    "%matplotlib tk\n",
    "import time\n",
    "import random\n",
    "from tqdm.notebook import tqdm\n",
    "import matplotlib.pyplot as plt\n",
    "\n",
    "import perceval as pcvl\n",
    "import perceval.algorithm as algo\n",
    "import perceval.algorithm.differentialEquationSolver as DES\n",
    "import numpy as np\n",
    "import sympy as sp"
   ]
  },
  {
   "cell_type": "markdown",
   "source": [
    "## Equations"
   ],
   "metadata": {
    "collapsed": false,
    "pycharm": {
     "name": "#%% md\n"
    }
   }
  },
  {
   "cell_type": "markdown",
   "source": [
    "The equation we are going to use in this example in pretty simple. This is the stationary Schrödinger equation for a massive particle in a 1D infinite energy box of size $L$: $- \\frac{\\hbar^2}{2 m} \\frac{\\partial^2}{\\partial x^2} | \\Psi \\rangle = E | \\Psi \\rangle$. We are going to solve this supposing we have a real phase (which will not change the value of $E$, nor the shape of the result.)\n",
    "\n",
    "As the solver takes into account only the first derivatives, we are going to transform this equation a bit by using two unknowns $Y = [| \\Psi \\rangle, \\frac{\\partial}{\\partial x} | \\Psi \\rangle]$ noted $[y, z]$ for simplicity.\n",
    "\n",
    "This gives us\n",
    "\n",
    "\\begin{gather*}\n",
    "    y'= z\\\\\n",
    "    - \\frac{\\hbar^2}{2 m} z' = E y \\\\\n",
    "\\end{gather*}\n",
    "\n",
    "We impose the boundary conditions $y(0) = y(L) = 0$.\n",
    "\n",
    "We can show that this gives us the analytical solution\n",
    "\n",
    "\\begin{gather*}\n",
    "    | \\Psi \\rangle = C \\sin(\\frac{n \\pi}{L}x) \\\\\n",
    "    E_n = \\frac{\\hbar^2 \\pi^2 n^2}{2 m L^2}\n",
    "\\end{gather*}\n",
    "with $n \\in \\mathbb{N}^*$.\n",
    "\n",
    "Since $| \\Psi \\rangle = 0$ is an unwanted solution for our system of equation, we will add the normalisation condition: $ \\langle \\Psi | \\Psi \\rangle = 1$. Our goal is only to find the form of the solution and the value of $E_1$, so there is no need that this is really fulfilled, but it should be enough to avoid null solutions. As the lowest energy solution is also the one that has the lowest frequencies, the solver should be able to find it without more equations. If we wanted to find a state of higher energy $E_n$, we could have added a penalisation equation or bounds to make sure the energy is higher than $E_{n-1}$, but it would require to know $E_{n-1}$."
   ],
   "metadata": {
    "collapsed": false,
    "pycharm": {
     "name": "#%% md\n"
    }
   }
  },
  {
   "cell_type": "code",
   "execution_count": 2,
   "outputs": [],
   "source": [
    "# Renormalisation\n",
    "L = 1\n",
    "hbar = 1\n",
    "m = 1"
   ],
   "metadata": {
    "collapsed": false,
    "pycharm": {
     "name": "#%%\n"
    }
   }
  },
  {
   "cell_type": "markdown",
   "source": [
    "With this renormalisation, we expect to find $E_1 = \\frac{\\pi ^2}{2} \\approx 4.935$."
   ],
   "metadata": {
    "collapsed": false,
    "pycharm": {
     "name": "#%% md\n"
    }
   }
  },
  {
   "cell_type": "code",
   "execution_count": 3,
   "outputs": [
    {
     "name": "stdout",
     "output_type": "stream",
     "text": [
      "target energy: 4.934802200544679\n"
     ]
    }
   ],
   "source": [
    "theorical_E = hbar ** 2 * np.pi ** 2 / (2 * m * L ** 2)\n",
    "print(\"target energy:\", theorical_E)"
   ],
   "metadata": {
    "collapsed": false,
    "pycharm": {
     "name": "#%%\n"
    }
   }
  },
  {
   "cell_type": "markdown",
   "source": [
    "We are now going to declare all these equations as Perceval objects. The general declaration of any equation is done through the `Equation` that takes a Sympy expression, or str representing an expression. The variables names must be \"u_i\", \"x\", and \"s_j\" where i designates the curve number, and j the scalar number.\n",
    "\n",
    "For each equation or boundary condition, we can specify a weight given to this equation to make it more important (although the importance is relative to each other weights). It can also be used to make comparable order of magnitude in all your equations (else, the low order of magnitude equations will almost be ignored). If the `Solver` struggles to find an appropriate solution, changing your weights can really improve convergence toward something good (however, this makes results impossible to compare through the loss value as it changes how changing weights changes how loss is calculated).\n",
    "\n",
    "In case we want to solve complex systems, we need to define separately the real part and the imaginary part."
   ],
   "metadata": {
    "collapsed": false,
    "pycharm": {
     "name": "#%% md\n"
    }
   }
  },
  {
   "cell_type": "code",
   "execution_count": 4,
   "outputs": [],
   "source": [
    "# First the differential equation system\n",
    "n_out = 2\n",
    "n_scalar = 1\n",
    "\n",
    "x = sp.Symbol(\"x\")\n",
    "psi = sp.Function(\"u_0\")(x)\n",
    "psi_p_0 = sp.Function(\"u_1\")(x)\n",
    "psi_p_1 = sp.Derivative(psi)\n",
    "psi_pp = sp.Derivative(psi_p_0)\n",
    "psi_pp = sp.Derivative(psi, (x, 2))\n",
    "E = sp.Symbol(\"s_0\")\n",
    "\n",
    "deriv = psi_p_0 - psi_p_1 # = 0\n",
    "F = - hbar ** 2 / (2 * m) * psi_pp - E * psi\n",
    "norm = sp.Integral(psi ** 2, (x, 0, L)) - 1\n",
    "\n",
    "\n",
    "diff_eq = DES.Equation(F, weight=1)\n",
    "diff_deriv = DES.Equation(deriv, weight=5)\n",
    "eq_norm = DES.Equation(norm, weight=1000)"
   ],
   "metadata": {
    "collapsed": false,
    "pycharm": {
     "name": "#%%\n"
    }
   }
  },
  {
   "cell_type": "markdown",
   "source": [
    "This is the general case to define a differential equation. As a rule of thumbs, always check that these objects return something when calling them on arrays, you don't want to compute for 5 minutes on QPU before having an error due to a wrongly written expression. In our case, if we want to use the same weight for our two main equations, since the equation system is linear, we could just use a matrix $A$ to define it, such that $Y' = AY$. In this case, we use a `LinearEquation`. Note that $A$ can contain Sympy expressions or str representing expressions."
   ],
   "metadata": {
    "collapsed": false,
    "pycharm": {
     "name": "#%% md\n"
    }
   }
  },
  {
   "cell_type": "code",
   "execution_count": 5,
   "outputs": [],
   "source": [
    "# Equivalent definition for deriv and F\n",
    "A = np.array([[0, 1],                                   # y' = 0 * y + 1 * z\n",
    "              [- 2 * m * E / hbar ** 2, 0]])            # z' = (- 2 m E / hbar ** 2)y + 0z\n",
    "de = DES.LinearEquation(A, weight=1)"
   ],
   "metadata": {
    "collapsed": false,
    "pycharm": {
     "name": "#%%\n"
    }
   }
  },
  {
   "cell_type": "markdown",
   "source": [
    "Now to declare the boundary conditions, we have two choices: a general form `DifferentialEquation` where functions are evaluated at some points, and a more specific one `BCValue` that will specify which value must the function take at specific points. The `act_on_derivative` keyword can be used to impose the value on the function's derivative instead of the function. Again, Sympy expressions can be used. Be careful, if you want to use the value of a derivative at a given point, you must use the `subs` attribute of Sympy expressions, as Sympy functions are not directly callable."
   ],
   "metadata": {
    "collapsed": false,
    "pycharm": {
     "name": "#%% md\n"
    }
   }
  },
  {
   "cell_type": "code",
   "execution_count": 6,
   "outputs": [],
   "source": [
    "boundary_0 = DES.Equation(\"u_0(0)\")  # Can directly use str\n",
    "boundary_0.weight = 20\n",
    "\n",
    "# None means no restriction\n",
    "boundary_L = DES.BCValue(L, [0, None], weight=20)\n",
    "\n",
    "# We can also join the two boundary conditions into one, given they have the same weight\n",
    "global_boundary = DES.Equation([psi.subs(x, 0), psi.subs(x, L)], weight=20)"
   ],
   "metadata": {
    "collapsed": false,
    "pycharm": {
     "name": "#%%\n"
    }
   }
  },
  {
   "cell_type": "markdown",
   "source": [
    "Finally, we just have to gather our equations into a single `DECollection` object."
   ],
   "metadata": {
    "collapsed": false,
    "pycharm": {
     "name": "#%% md\n"
    }
   }
  },
  {
   "cell_type": "code",
   "execution_count": 7,
   "outputs": [],
   "source": [
    "n_equations = 4\n",
    "equation_names = [\"eq\", \"deriv\", \"norm\", \"BC\"]\n",
    "\n",
    "des = (DES.DECollection(diff_eq)\n",
    "       .add(diff_deriv)\n",
    "       .add(eq_norm)\n",
    "       .add(global_boundary))"
   ],
   "metadata": {
    "collapsed": false,
    "pycharm": {
     "name": "#%%\n"
    }
   }
  },
  {
   "cell_type": "markdown",
   "source": [
    "Since we know the analytical solution, we can define it as a `AnalyticalSolution`. It will only be used for display to check that we reach the actual solution. In our case, the opposite of this solution may also be found, so we define it as a function, that allows us to define an outer scope trigger to change the sign for nicer plots. The downside of this method is that it requires us to work directly on arrays. Defining things as Python function can only be done for the analytical solution."
   ],
   "metadata": {
    "collapsed": false,
    "pycharm": {
     "name": "#%% md\n"
    }
   }
  },
  {
   "cell_type": "code",
   "execution_count": 8,
   "outputs": [],
   "source": [
    "an = DES.AnalyticalSolution([(2 / L) ** .5 * sp.sin(sp.pi * x), (2 / L) ** .5 * sp.pi * sp.cos(sp.pi * x)])\n",
    "\n",
    "opposite = False  # turn this to True to plot the negative analytical solution\n",
    "\n",
    "def u(x):  # We have in fact 1/2 chance that the computed solution will be -u\n",
    "    return an(x) * (-1 if opposite else 1)"
   ],
   "metadata": {
    "collapsed": false,
    "pycharm": {
     "name": "#%%\n"
    }
   }
  },
  {
   "cell_type": "markdown",
   "source": [
    "## Paradigm shift"
   ],
   "metadata": {
    "collapsed": false,
    "pycharm": {
     "name": "#%% md\n"
    }
   }
  },
  {
   "cell_type": "markdown",
   "source": [
    "Sometimes, it could be better to rework from the equations to have something more simple. A good thing is to transform your differential equations into a set of integral equations, as integrals are far less sensitive to noise than derivatives.\n",
    "\n",
    "With our example:\n",
    "\n",
    "$- \\frac{\\hbar^2}{2 m} \\frac{\\partial^2}{\\partial x^2} | \\Psi \\rangle = E | \\Psi \\rangle$ becomes $- \\frac{\\hbar^2}{2 m} y_{second} = E \\iint y_{second} + c_0 x + c_1$, where $y_{second} = \\frac{\\partial^2}{\\partial x^2} | \\Psi \\rangle$, and $c_0, c_1$ are integration constants.\n",
    "\n",
    "Now, with the condition $| \\Psi \\rangle (0) = 0$, and knowing that the solver will impose $(\\iint y_{second}) (0) = 0$, we obtain $c_1 = 0$, leaving us with only one unknown constant (the value at $0$ of the primitive of $y_{second}$)."
   ],
   "metadata": {
    "collapsed": false,
    "pycharm": {
     "name": "#%% md\n"
    }
   }
  },
  {
   "cell_type": "code",
   "execution_count": null,
   "outputs": [],
   "source": [
    "# Skip this part to use the previous system of equations\n",
    "\n",
    "# First the differential equation system\n",
    "n_out = 1\n",
    "n_scalar = 2\n",
    "\n",
    "x = sp.Symbol(\"x\")\n",
    "y_second = sp.Function(\"u_0\")(x)\n",
    "E = sp.Symbol(\"s_0\")\n",
    "\n",
    "# Note that here, the limits of the integral are not given, meaning we want the function and not a certain value.\n",
    "# Value at x_min is always 0.\n",
    "y = sp.Integral(sp.Integral(y_second, x) + sp.Symbol(\"s_1\"), x)\n",
    "integral = - hbar ** 2 / (2 * m) * y_second - E * y\n",
    "\n",
    "diff_integral = DES.Equation(integral)\n",
    "eq_norm_integral = DES.Equation(sp.Integral(y ** 2, (x, 0, L)) - 1, weight=100)"
   ],
   "metadata": {
    "collapsed": false,
    "pycharm": {
     "name": "#%%\n"
    }
   }
  },
  {
   "cell_type": "markdown",
   "source": [
    "Now there is only one boundary condition left, at $x = L$, as the one at $x = 0$ is enforced by our solving process."
   ],
   "metadata": {
    "collapsed": false,
    "pycharm": {
     "name": "#%% md\n"
    }
   }
  },
  {
   "cell_type": "code",
   "execution_count": null,
   "outputs": [],
   "source": [
    "bc_integral = DES.Equation(y.subs(x, L), weight=2)"
   ],
   "metadata": {
    "collapsed": false,
    "pycharm": {
     "name": "#%%\n"
    }
   }
  },
  {
   "cell_type": "markdown",
   "source": [
    "Finally, we do as before."
   ],
   "metadata": {
    "collapsed": false,
    "pycharm": {
     "name": "#%% md\n"
    }
   }
  },
  {
   "cell_type": "code",
   "execution_count": null,
   "outputs": [],
   "source": [
    "n_equations = 3\n",
    "equation_names = [\"eq\", \"norm\", \"BC\"]\n",
    "\n",
    "des = (DES.DECollection(diff_integral)\n",
    "       .add(eq_norm_integral)\n",
    "       .add(bc_integral))"
   ],
   "metadata": {
    "collapsed": false,
    "pycharm": {
     "name": "#%%\n"
    }
   }
  },
  {
   "cell_type": "code",
   "execution_count": null,
   "outputs": [],
   "source": [
    "# If we force the derivative of psi at 0 to be positive, we will always end with the positive solution\n",
    "u = DES.AnalyticalSolution(- (2 / L) ** .5 * sp.pi ** 2 * sp.sin(sp.pi * x))  # with pi ** 2 as we work on the second derivative"
   ],
   "metadata": {
    "collapsed": false,
    "pycharm": {
     "name": "#%%\n"
    }
   }
  },
  {
   "cell_type": "markdown",
   "source": [
    "## Computing"
   ],
   "metadata": {
    "collapsed": false,
    "pycharm": {
     "name": "#%% md\n"
    }
   }
  },
  {
   "cell_type": "markdown",
   "metadata": {
    "pycharm": {
     "name": "#%% md\n"
    }
   },
   "source": [
    "We now have to declare how we want to compute the solution to the equation. Basically, we must start by declaring a `RemoteProcessor`. There are two ways to declare a working `RemoteProcessor`. Either we specify a detection scheme, so it precomputes things at first iteration to make computation faster, but it can work only with perfect simulators, either we use a specific format (see [below](#Just-a-few-notes-about-ProcessorComputers)) of processors that can handle any processor, but does not have optimisation.\n",
    "\n",
    "For a first attempt, we are going to use the first kind of processor with Pseudo number resolving (PNR), which uses threshold detection but with supplementary beam splitters at the end of the circuit that will try to separate the photons before their detection, maximising the received information."
   ]
  },
  {
   "cell_type": "code",
   "execution_count": 9,
   "metadata": {
    "pycharm": {
     "name": "#%%\n"
    }
   },
   "outputs": [],
   "source": [
    "modes = 6  # number of modes before the final beam splitters\n",
    "n = 2  # number of photons\n",
    "token = \"YOUR_TOKEN\"\n",
    "processor = pcvl.RemoteProcessor(\"sim:clifford\", token)\n",
    "processor.set_parameter(\"scheme\", \"pseudo_PNR\")  # The scheme field declares that this processor is of the first kind\n",
    "\n",
    "c = pcvl.Unitary(pcvl.Matrix.random_unitary(modes))\n",
    "for i in range(modes):\n",
    "    c = c.add(i, pcvl.PS(pcvl.P(f\"{i+1}x\")))\n",
    "c = c.add(0, pcvl.Unitary(pcvl.Matrix.random_unitary(modes)))\n",
    "processor.set_circuit(c)\n",
    "\n",
    "processor.with_input(pcvl.BasicState([1] * n + (modes - n) * [0]))\n",
    "pcvl.pdisplay(processor)"
   ]
  },
  {
   "cell_type": "markdown",
   "metadata": {
    "pycharm": {
     "name": "#%% md\n"
    }
   },
   "source": [
    "Note that the final beam splitters are not displayed as they are not computed by Perceval but added at the end of the computation.\n",
    "Some computation parameters can be set with `set_parameters`, with the other parameters the Processor can take."
   ]
  },
  {
   "cell_type": "code",
   "execution_count": 10,
   "metadata": {
    "pycharm": {
     "name": "#%%\n"
    }
   },
   "outputs": [],
   "source": [
    "processor.set_parameters({\n",
    "    \"phase_imprecision\": 1e-3,  # Imprecision on the PS phases\n",
    "    \"samples\": 2e5,  # Number of samples at each point of the grid\n",
    "    \"photon_loss\": .9  # Probability to lose a photon before detection. Similar to LC components, but precomputed\n",
    "})"
   ]
  },
  {
   "cell_type": "markdown",
   "metadata": {
    "pycharm": {
     "name": "#%% md\n"
    }
   },
   "source": [
    "## Solving"
   ]
  },
  {
   "cell_type": "markdown",
   "metadata": {
    "pycharm": {
     "name": "#%% md\n"
    }
   },
   "source": [
    "To solve these equations, we need to know where to solve them. Obviously, the points given at the boundary conditions must be included in the interval covered by this grid."
   ]
  },
  {
   "cell_type": "code",
   "execution_count": 11,
   "metadata": {
    "pycharm": {
     "name": "#%%\n"
    }
   },
   "outputs": [],
   "source": [
    "n_grid = 50\n",
    "\n",
    "X = np.linspace(0, L, n_grid)  # An evenly spaced grid is not mandatory"
   ]
  },
  {
   "cell_type": "markdown",
   "metadata": {
    "pycharm": {
     "name": "#%% md\n"
    }
   },
   "source": [
    "We now have everything to solve the equations. Let's declare a `DESolver` instance with all these equations. There are many options on the solver, such as initial bounds of the solution (be careful, it can be crossed during the optimisation), the number of unknown scalars, their bounds, and a penalisation factor to reduce the noise due to sampling (warning: this changes the loss function, making you solve a slightly different differential equation). Here, we physically know that $E$ will be non-negative, and we can guess its value will not be too high since all our constants are 1. Once again, pay attention to the bounds, as they will highly impact the convergence towards something good (here, using (0, 100) doesn't give good results due to initial guess)."
   ]
  },
  {
   "cell_type": "code",
   "execution_count": 12,
   "metadata": {
    "pycharm": {
     "name": "#%%\n"
    }
   },
   "outputs": [],
   "source": [
    "solver = algo.DESolver(X, des, processor, scalar_bound=[(0, 10), (0, 20)][:n_scalar], force_scalar_bounds=True)"
   ]
  },
  {
   "cell_type": "markdown",
   "metadata": {
    "pycharm": {
     "name": "#%% md\n"
    }
   },
   "source": [
    "As for processors, we can give parameters to the solver, but that are linked to the solving process itself."
   ]
  },
  {
   "cell_type": "code",
   "execution_count": 13,
   "metadata": {
    "pycharm": {
     "name": "#%%\n"
    }
   },
   "outputs": [],
   "source": [
    "# Will recompute the probabilities every n iterations. default is 0, meaning no re-computation. Useful to make it learn to avoid noise\n",
    "solver.set_parameter(\"resampling_it_number\", 0)\n",
    "# noise_filter frequency used on the solution curves. Higher values mean less noise reduction\n",
    "solver.set_parameters({\n",
    "    \"nf_frequency\": .15,\n",
    "    \"nf_order\": 2\n",
    "})"
   ]
  },
  {
   "cell_type": "markdown",
   "metadata": {
    "pycharm": {
     "name": "#%% md\n"
    }
   },
   "source": [
    "We can also give some useful information to the solver, that will be exclusively used for monitoring. Any function can be used as callback, provided it takes these arguments."
   ]
  },
  {
   "cell_type": "code",
   "execution_count": 14,
   "metadata": {
    "pycharm": {
     "name": "#%%\n"
    }
   },
   "outputs": [],
   "source": [
    "solver.analytical_solution = u\n",
    "solver.legend = [r\"$| \\Psi \\rangle$\", r\"$\\frac{\\partial}{\\partial x} | \\Psi \\rangle$\"] if n_out == 2 else \\\n",
    "                [r\"$\\frac{\\partial^2}{\\partial x^2} | \\Psi \\rangle$\"] # default is [0, 1]\n",
    "solver.scalar_legend = [\"$E$\", None][:n_scalar]  # None means no display\n",
    "\n",
    "def pbar(q):  # Needed as tqdm will display in the cell it has been declared and not in the running cell\n",
    "    start = time.time()\n",
    "    def callback(res):\n",
    "        results = res[\"results\"]\n",
    "        q.set_description(\"Loss: %0.5f elapsed: %0.5f\" % (results[\"loss_evolution\"][-1],\n",
    "                                                          results[\"time\"][-1] - (results[\"time\"][-2] if len(results[\"time\"]) > 1 else start)\n",
    "                                                          ))\n",
    "        q.update(results[\"iteration_count\"] - q.n)\n",
    "\n",
    "    return callback"
   ]
  },
  {
   "cell_type": "markdown",
   "metadata": {
    "pycharm": {
     "name": "#%% md\n"
    }
   },
   "source": [
    "We can now run the solver. Use the `display_job` to monitor the solving process. Be aware that according to the matplotlib magic that you use, it is possible that only the result is only shown at the end.\n",
    "\n",
    "The displayed loss represents how far from having all the differential equations and boundary conditions solved on each point the solution is. The closer to 0, the better the approximation."
   ]
  },
  {
   "cell_type": "code",
   "execution_count": 15,
   "metadata": {
    "pycharm": {
     "name": "#%%\n"
    }
   },
   "outputs": [
    {
     "data": {
      "application/vnd.jupyter.widget-view+json": {
       "model_id": "09652e910ff141a2807c79f73d66628c",
       "version_major": 2,
       "version_minor": 0
      },
      "text/plain": [
       "0it [00:00, ?it/s]"
      ]
     },
     "metadata": {},
     "output_type": "display_data"
    },
    {
     "ename": "KeyboardInterrupt",
     "evalue": "",
     "output_type": "error",
     "traceback": [
      "\u001B[1;31m---------------------------------------------------------------------------\u001B[0m",
      "\u001B[1;31mKeyboardInterrupt\u001B[0m                         Traceback (most recent call last)",
      "Input \u001B[1;32mIn [15]\u001B[0m, in \u001B[0;36m<cell line: 3>\u001B[1;34m()\u001B[0m\n\u001B[0;32m      1\u001B[0m q \u001B[38;5;241m=\u001B[39m tqdm()\n\u001B[0;32m      2\u001B[0m solver\u001B[38;5;241m.\u001B[39mpbar \u001B[38;5;241m=\u001B[39m pbar(q)  \u001B[38;5;66;03m# if exists, must be a tqdm object, but can be adapted to your environment (notebook, terminal, ide...)\u001B[39;00m\n\u001B[1;32m----> 3\u001B[0m job \u001B[38;5;241m=\u001B[39m \u001B[43msolver\u001B[49m\u001B[38;5;241;43m.\u001B[39;49m\u001B[43msolve\u001B[49m\u001B[38;5;241;43m.\u001B[39;49m\u001B[43mexecute_async\u001B[49m\u001B[43m(\u001B[49m\u001B[43m)\u001B[49m\n\u001B[0;32m      4\u001B[0m \u001B[38;5;28;01mwhile\u001B[39;00m \u001B[38;5;129;01mnot\u001B[39;00m job\u001B[38;5;241m.\u001B[39mis_complete:\n\u001B[0;32m      5\u001B[0m     time\u001B[38;5;241m.\u001B[39msleep(\u001B[38;5;241m1\u001B[39m)\n",
      "File \u001B[1;32mC:\\DEV\\DE_solving\\Perceval\\perceval\\runtime\\remote_job.py:101\u001B[0m, in \u001B[0;36mRemoteJob.execute_async\u001B[1;34m(self, *args, **kwargs)\u001B[0m\n\u001B[0;32m     99\u001B[0m         \u001B[38;5;28mself\u001B[39m\u001B[38;5;241m.\u001B[39m_job_context[\u001B[38;5;124m\"\u001B[39m\u001B[38;5;124mmapping_delta_parameters\u001B[39m\u001B[38;5;124m\"\u001B[39m] \u001B[38;5;241m=\u001B[39m \u001B[38;5;28mself\u001B[39m\u001B[38;5;241m.\u001B[39m_delta_parameters\n\u001B[0;32m    100\u001B[0m     kwargs[\u001B[38;5;124m'\u001B[39m\u001B[38;5;124mjob_context\u001B[39m\u001B[38;5;124m'\u001B[39m] \u001B[38;5;241m=\u001B[39m \u001B[38;5;28mself\u001B[39m\u001B[38;5;241m.\u001B[39m_job_context\n\u001B[1;32m--> 101\u001B[0m     \u001B[38;5;28mself\u001B[39m\u001B[38;5;241m.\u001B[39m_id \u001B[38;5;241m=\u001B[39m \u001B[38;5;28mself\u001B[39m\u001B[38;5;241m.\u001B[39m_fn(\u001B[38;5;241m*\u001B[39margs, \u001B[38;5;241m*\u001B[39m\u001B[38;5;241m*\u001B[39mkwargs)\n\u001B[0;32m    102\u001B[0m \u001B[38;5;28;01mexcept\u001B[39;00m \u001B[38;5;167;01mException\u001B[39;00m \u001B[38;5;28;01mas\u001B[39;00m e:\n\u001B[0;32m    103\u001B[0m     \u001B[38;5;28mself\u001B[39m\u001B[38;5;241m.\u001B[39m_job_status\u001B[38;5;241m.\u001B[39mstop_run(RunningStatus\u001B[38;5;241m.\u001B[39mERROR, \u001B[38;5;28mstr\u001B[39m(e))\n",
      "File \u001B[1;32mC:\\DEV\\DE_solving\\Perceval\\perceval\\algorithm\\solver.py:263\u001B[0m, in \u001B[0;36mDESolver._execute_job.<locals>.launch\u001B[1;34m(**kwargs2)\u001B[0m\n\u001B[0;32m    262\u001B[0m \u001B[38;5;28;01mdef\u001B[39;00m \u001B[38;5;21mlaunch\u001B[39m(\u001B[38;5;241m*\u001B[39m\u001B[38;5;241m*\u001B[39mkwargs2):\n\u001B[1;32m--> 263\u001B[0m     \u001B[38;5;28;01mreturn\u001B[39;00m \u001B[38;5;28mself\u001B[39m\u001B[38;5;241m.\u001B[39mprocessor\u001B[38;5;241m.\u001B[39masync_execute(command, \u001B[38;5;241m*\u001B[39m\u001B[38;5;241m*\u001B[39margs, \u001B[38;5;241m*\u001B[39m\u001B[38;5;241m*\u001B[39mkwargs2)\n",
      "File \u001B[1;32mC:\\DEV\\DE_solving\\Perceval\\perceval\\runtime\\remote_processor.py:172\u001B[0m, in \u001B[0;36mRemoteProcessor.async_execute\u001B[1;34m(self, command, **args)\u001B[0m\n\u001B[0;32m    170\u001B[0m \u001B[38;5;28;01mif\u001B[39;00m \u001B[38;5;28mself\u001B[39m\u001B[38;5;241m.\u001B[39m_backend \u001B[38;5;129;01mis\u001B[39;00m \u001B[38;5;28;01mNone\u001B[39;00m:\n\u001B[0;32m    171\u001B[0m     \u001B[38;5;28mself\u001B[39m\u001B[38;5;241m.\u001B[39m__build_backend()\n\u001B[1;32m--> 172\u001B[0m \u001B[38;5;28;01mreturn\u001B[39;00m \u001B[38;5;28mself\u001B[39m\u001B[38;5;241m.\u001B[39m_backend\u001B[38;5;241m.\u001B[39masync_execute(command, parameters\u001B[38;5;241m=\u001B[39m\u001B[38;5;28mself\u001B[39m\u001B[38;5;241m.\u001B[39m_parameters, \u001B[38;5;241m*\u001B[39m\u001B[38;5;241m*\u001B[39margs)\n",
      "File \u001B[1;32mC:\\DEV\\DE_solving\\Perceval\\perceval\\runtime\\remote_backend.py:65\u001B[0m, in \u001B[0;36mRemoteBackend.async_execute\u001B[1;34m(self, command, parameters, **args)\u001B[0m\n\u001B[0;32m     62\u001B[0m \u001B[38;5;28;01mif\u001B[39;00m parameters:\n\u001B[0;32m     63\u001B[0m     job_params[\u001B[38;5;124m'\u001B[39m\u001B[38;5;124mpayload\u001B[39m\u001B[38;5;124m'\u001B[39m][\u001B[38;5;124m'\u001B[39m\u001B[38;5;124mparameters\u001B[39m\u001B[38;5;124m'\u001B[39m] \u001B[38;5;241m=\u001B[39m parameters\n\u001B[1;32m---> 65\u001B[0m \u001B[38;5;28;01mreturn\u001B[39;00m \u001B[38;5;28;43mself\u001B[39;49m\u001B[38;5;241;43m.\u001B[39;49m\u001B[43m__rpc_handler\u001B[49m\u001B[38;5;241;43m.\u001B[39;49m\u001B[43mcreate_job\u001B[49m\u001B[43m(\u001B[49m\u001B[43mserialize\u001B[49m\u001B[43m(\u001B[49m\u001B[43mjob_params\u001B[49m\u001B[43m)\u001B[49m\u001B[43m)\u001B[49m\n",
      "File \u001B[1;32mC:\\DEV\\DE_solving\\Perceval\\perceval\\runtime\\rpc_handler.py:54\u001B[0m, in \u001B[0;36mRPCHandler.create_job\u001B[1;34m(self, payload)\u001B[0m\n\u001B[0;32m     53\u001B[0m \u001B[38;5;28;01mdef\u001B[39;00m \u001B[38;5;21mcreate_job\u001B[39m(\u001B[38;5;28mself\u001B[39m, payload):\n\u001B[1;32m---> 54\u001B[0m     endpoint \u001B[38;5;241m=\u001B[39m \u001B[38;5;124mf\u001B[39m\u001B[38;5;124m\"\u001B[39m\u001B[38;5;132;01m{\u001B[39;00m\u001B[38;5;28mself\u001B[39m\u001B[38;5;241m.\u001B[39murl\u001B[38;5;132;01m}\u001B[39;00m\u001B[38;5;132;01m{\u001B[39;00m_ENDPOINT_JOB_CREATE\u001B[38;5;132;01m}\u001B[39;00m\u001B[38;5;124m\"\u001B[39m\n\u001B[0;32m     55\u001B[0m     request \u001B[38;5;241m=\u001B[39m requests\u001B[38;5;241m.\u001B[39mpost(endpoint,\n\u001B[0;32m     56\u001B[0m                             headers\u001B[38;5;241m=\u001B[39m\u001B[38;5;28mself\u001B[39m\u001B[38;5;241m.\u001B[39mheaders,\n\u001B[0;32m     57\u001B[0m                             json\u001B[38;5;241m=\u001B[39mpayload)\n\u001B[0;32m     59\u001B[0m     json \u001B[38;5;241m=\u001B[39m {}\n",
      "File \u001B[1;32mC:\\DEV\\DE_solving\\Perceval\\perceval\\runtime\\rpc_handler.py:54\u001B[0m, in \u001B[0;36mRPCHandler.create_job\u001B[1;34m(self, payload)\u001B[0m\n\u001B[0;32m     53\u001B[0m \u001B[38;5;28;01mdef\u001B[39;00m \u001B[38;5;21mcreate_job\u001B[39m(\u001B[38;5;28mself\u001B[39m, payload):\n\u001B[1;32m---> 54\u001B[0m     endpoint \u001B[38;5;241m=\u001B[39m \u001B[38;5;124mf\u001B[39m\u001B[38;5;124m\"\u001B[39m\u001B[38;5;132;01m{\u001B[39;00m\u001B[38;5;28mself\u001B[39m\u001B[38;5;241m.\u001B[39murl\u001B[38;5;132;01m}\u001B[39;00m\u001B[38;5;132;01m{\u001B[39;00m_ENDPOINT_JOB_CREATE\u001B[38;5;132;01m}\u001B[39;00m\u001B[38;5;124m\"\u001B[39m\n\u001B[0;32m     55\u001B[0m     request \u001B[38;5;241m=\u001B[39m requests\u001B[38;5;241m.\u001B[39mpost(endpoint,\n\u001B[0;32m     56\u001B[0m                             headers\u001B[38;5;241m=\u001B[39m\u001B[38;5;28mself\u001B[39m\u001B[38;5;241m.\u001B[39mheaders,\n\u001B[0;32m     57\u001B[0m                             json\u001B[38;5;241m=\u001B[39mpayload)\n\u001B[0;32m     59\u001B[0m     json \u001B[38;5;241m=\u001B[39m {}\n",
      "File \u001B[1;32m_pydevd_bundle\\pydevd_cython_win32_310_64.pyx:1179\u001B[0m, in \u001B[0;36m_pydevd_bundle.pydevd_cython_win32_310_64.SafeCallWrapper.__call__\u001B[1;34m()\u001B[0m\n",
      "File \u001B[1;32m_pydevd_bundle\\pydevd_cython_win32_310_64.pyx:620\u001B[0m, in \u001B[0;36m_pydevd_bundle.pydevd_cython_win32_310_64.PyDBFrame.trace_dispatch\u001B[1;34m()\u001B[0m\n",
      "File \u001B[1;32m_pydevd_bundle\\pydevd_cython_win32_310_64.pyx:929\u001B[0m, in \u001B[0;36m_pydevd_bundle.pydevd_cython_win32_310_64.PyDBFrame.trace_dispatch\u001B[1;34m()\u001B[0m\n",
      "File \u001B[1;32m_pydevd_bundle\\pydevd_cython_win32_310_64.pyx:920\u001B[0m, in \u001B[0;36m_pydevd_bundle.pydevd_cython_win32_310_64.PyDBFrame.trace_dispatch\u001B[1;34m()\u001B[0m\n",
      "File \u001B[1;32m_pydevd_bundle\\pydevd_cython_win32_310_64.pyx:317\u001B[0m, in \u001B[0;36m_pydevd_bundle.pydevd_cython_win32_310_64.PyDBFrame.do_wait_suspend\u001B[1;34m()\u001B[0m\n",
      "File \u001B[1;32mC:\\Program Files\\JetBrains\\PyCharm 2022.2.1\\plugins\\python\\helpers\\pydev\\pydevd.py:1160\u001B[0m, in \u001B[0;36mPyDB.do_wait_suspend\u001B[1;34m(self, thread, frame, event, arg, send_suspend_message, is_unhandled_exception)\u001B[0m\n\u001B[0;32m   1157\u001B[0m         from_this_thread\u001B[38;5;241m.\u001B[39mappend(frame_id)\n\u001B[0;32m   1159\u001B[0m \u001B[38;5;28;01mwith\u001B[39;00m \u001B[38;5;28mself\u001B[39m\u001B[38;5;241m.\u001B[39m_threads_suspended_single_notification\u001B[38;5;241m.\u001B[39mnotify_thread_suspended(thread_id, stop_reason):\n\u001B[1;32m-> 1160\u001B[0m     \u001B[38;5;28;43mself\u001B[39;49m\u001B[38;5;241;43m.\u001B[39;49m\u001B[43m_do_wait_suspend\u001B[49m\u001B[43m(\u001B[49m\u001B[43mthread\u001B[49m\u001B[43m,\u001B[49m\u001B[43m \u001B[49m\u001B[43mframe\u001B[49m\u001B[43m,\u001B[49m\u001B[43m \u001B[49m\u001B[43mevent\u001B[49m\u001B[43m,\u001B[49m\u001B[43m \u001B[49m\u001B[43marg\u001B[49m\u001B[43m,\u001B[49m\u001B[43m \u001B[49m\u001B[43msuspend_type\u001B[49m\u001B[43m,\u001B[49m\u001B[43m \u001B[49m\u001B[43mfrom_this_thread\u001B[49m\u001B[43m)\u001B[49m\n",
      "File \u001B[1;32mC:\\Program Files\\JetBrains\\PyCharm 2022.2.1\\plugins\\python\\helpers\\pydev\\pydevd.py:1175\u001B[0m, in \u001B[0;36mPyDB._do_wait_suspend\u001B[1;34m(self, thread, frame, event, arg, suspend_type, from_this_thread)\u001B[0m\n\u001B[0;32m   1172\u001B[0m             \u001B[38;5;28mself\u001B[39m\u001B[38;5;241m.\u001B[39m_call_mpl_hook()\n\u001B[0;32m   1174\u001B[0m         \u001B[38;5;28mself\u001B[39m\u001B[38;5;241m.\u001B[39mprocess_internal_commands()\n\u001B[1;32m-> 1175\u001B[0m         \u001B[43mtime\u001B[49m\u001B[38;5;241;43m.\u001B[39;49m\u001B[43msleep\u001B[49m\u001B[43m(\u001B[49m\u001B[38;5;241;43m0.01\u001B[39;49m\u001B[43m)\u001B[49m\n\u001B[0;32m   1177\u001B[0m \u001B[38;5;28mself\u001B[39m\u001B[38;5;241m.\u001B[39mcancel_async_evaluation(get_current_thread_id(thread), \u001B[38;5;28mstr\u001B[39m(\u001B[38;5;28mid\u001B[39m(frame)))\n\u001B[0;32m   1179\u001B[0m \u001B[38;5;66;03m# process any stepping instructions\u001B[39;00m\n",
      "\u001B[1;31mKeyboardInterrupt\u001B[0m: "
     ]
    }
   ],
   "source": [
    "q = tqdm()\n",
    "solver.pbar = pbar(q)  # if exists, must be a tqdm object, but can be adapted to your environment (notebook, terminal, ide...)\n",
    "job = solver.solve.execute_async()\n",
    "while not job.is_complete:\n",
    "    time.sleep(1)\n",
    "    solver.display_job(job, display_curve = True)\n",
    "q.close()"
   ]
  },
  {
   "cell_type": "markdown",
   "metadata": {
    "pycharm": {
     "name": "#%% md\n"
    }
   },
   "source": [
    "If the loss is too big, you can perform the computation several times. Adding the results to `solver.results` will allow it to perform further computation and plotting. As the results are only composed of Python's native objects and Numpy arrays, they can also easily be saved."
   ]
  },
  {
   "cell_type": "code",
   "execution_count": 18,
   "metadata": {
    "pycharm": {
     "name": "#%%\n"
    }
   },
   "outputs": [
    {
     "data": {
      "application/vnd.jupyter.widget-view+json": {
       "model_id": "bb2f7c0083624f59a389786d0e6846b7",
       "version_major": 2,
       "version_minor": 0
      },
      "text/plain": [
       "0it [00:00, ?it/s]"
      ]
     },
     "metadata": {},
     "output_type": "display_data"
    },
    {
     "name": "stdout",
     "output_type": "stream",
     "text": [
      "Energy found: 4.872152814304573 corresponding loss: 3.9717223159966144\n",
      "Energy found: 3.8351324200104577 corresponding loss: 4.622681389994862\n",
      "Energy found: 4.5850828427976085 corresponding loss: 3.646609248903439\n",
      "Energy found: 4.315384286494077 corresponding loss: 10.835722441558584\n",
      "Energy found: 4.115343563383202 corresponding loss: 4.073258091094957\n",
      "Energy found: 4.666326233314379 corresponding loss: 4.290207370614583\n",
      "Energy found: 0.000509241402041043 corresponding loss: 9.961685009527145\n",
      "Energy found: 4.920672241300555 corresponding loss: 4.148796770565229\n",
      "Energy found: 4.509207463006803 corresponding loss: 3.601259029749654\n",
      "Energy found: 3.4517669045573345 corresponding loss: 4.57847224812199\n",
      "Energy found: 3.303861994810354 corresponding loss: 4.609709075209524\n",
      "Energy found: 0.0 corresponding loss: 9.936131428800959\n",
      "Energy found: 4.883574210741985 corresponding loss: 3.6361816780292036\n",
      "Energy found: 3.2003252930276203 corresponding loss: 4.51330857085999\n",
      "Energy found: 4.396400340217828 corresponding loss: 4.361466498362548\n",
      "Energy found: 4.532274324848783 corresponding loss: 11.062455209909462\n",
      "Energy found: 3.3991228602882986 corresponding loss: 4.5565344946501725\n",
      "Energy found: 7.886625190781889 corresponding loss: 10.532489422060312\n",
      "Energy found: 4.086532339374435 corresponding loss: 3.862268988496273\n",
      "Energy found: 4.3351836213878245 corresponding loss: 4.025159511356456\n"
     ]
    }
   ],
   "source": [
    "q = tqdm()\n",
    "solver.pbar = pbar(q)\n",
    "for _ in range(20):\n",
    "    q.reset()\n",
    "    job = solver.solve.execute_async()\n",
    "    while not job.is_complete:\n",
    "        time.sleep(1)\n",
    "        solver.display_job(job)\n",
    "    print(\"Energy found:\", solver.results[-1][\"results\"][\"scalars\"][0], \"corresponding loss:\", solver.results[-1][\"results\"][\"final_loss\"])\n",
    "    q.leave = True\n",
    "q.close()"
   ]
  },
  {
   "cell_type": "code",
   "execution_count": 16,
   "metadata": {
    "pycharm": {
     "name": "#%%\n"
    }
   },
   "outputs": [
    {
     "name": "stdout",
     "output_type": "stream",
     "text": [
      "{'unitary_parameters': array([ 1.87683231,  1.38714662, -0.70835325,  3.16361399, -1.01907451,\n",
      "        1.3966882 ,  0.69945548, -0.86523352,  1.43426045,  0.16760758,\n",
      "       -0.55772388,  0.47608923, -0.17789769, -1.02317626, -0.45056305,\n",
      "        0.12705946,  0.61842582,  0.78034901, -0.4557833 ,  0.42652564,\n",
      "        0.54687209,  1.81899609,  0.21436469,  1.55194193, -0.05999294,\n",
      "       -0.35599298, -0.19401986,  0.01481952,  2.83036466,  1.25473429,\n",
      "        0.60555296, -1.26128999,  1.15643831,  0.24320321, -0.13444436,\n",
      "        1.73615142,  1.84390783, -0.08511496,  0.27860252,  0.55463204,\n",
      "        0.59074085, -0.20966519, -0.16114074,  0.7151254 , -1.89117065,\n",
      "       -0.20690247,  2.34728393, -0.9980569 ,  0.78467368, -0.23484706,\n",
      "        0.18548112, -1.64179017, -1.09933049, -0.35359836,  2.08717753,\n",
      "       -0.9589047 ,  0.64532924, -0.77722639,  0.97960603,  1.63576184,\n",
      "        0.94797855, -0.86994432, -0.48334342,  1.12470742, -0.11444592,\n",
      "       -0.52147621,  0.88204542, -0.21009338,  0.98742501,  0.37780258,\n",
      "        0.35090921, -0.41681866,  0.47567562, -0.82809337, -1.30363022,\n",
      "       -0.34957217, -0.47516062, -0.58118895,  0.75926525,  0.09011804,\n",
      "       -1.57897182, -1.06596712,  0.01177129,  1.41355463,  0.12365398,\n",
      "        0.43244032,  0.87060589, -0.04672698,  0.43904492, -0.54040576,\n",
      "        0.54818292, -0.25019499,  0.47644139,  0.93525484, -0.13583389,\n",
      "       -0.43303889,  0.15438297, -0.82637922,  2.94089674,  0.44794732,\n",
      "       -1.73368057,  0.62158835,  1.35409209,  0.38479558,  2.0031708 ,\n",
      "       -0.57104905,  0.14394664,  0.42529719,  2.15771439,  0.18403033,\n",
      "        1.0255388 ,  0.77038007,  0.12384201, -0.55488974, -0.4140828 ,\n",
      "        0.00828435,  1.04896126, -0.27453539,  0.56336728, -0.89703793,\n",
      "       -0.81249234, -0.88769965, -0.04451523, -0.55649643, -0.66866623,\n",
      "        0.99289331,  1.33784298,  0.66655857,  0.3417295 , -1.47628802,\n",
      "       -0.80738063, -1.75839071,  1.48805752,  1.37954551, -0.79858161,\n",
      "       -0.45544214, -1.12735558, -0.80694814,  0.50062696, -0.58835708,\n",
      "       -0.58163133,  1.28231447, -0.66435655, -0.83445025]), 'weights': array([  -0.71541402,    1.50661785,    5.59305046, -149.37901165,\n",
      "         25.49424881,   22.29428209,   -9.10860897,  135.3912405 ,\n",
      "          5.82517604,  199.49998029,   -6.52041077, -128.44730915]), 'loss_evolution': [(1481.1562270642817, 0.08081698417663574), (473.6046144858393, 0.16939735412597656), (191.66041727042136, 0.03651070594787598), (97.10831326408326, 0.03632998466491699), (65.20751094526793, 0.03327059745788574), (49.68856928044385, 0.024960994720458984), (35.22844514572612, 0.03968453407287598), (17.828964407666252, 0.02978801727294922), (12.14660569981626, 0.030117511749267578), (11.787700163393101, 0.03793740272521973), (9.969552003407827, 0.048894643783569336), (9.545833663067649, 0.03319549560546875), (8.040774657080389, 0.044710636138916016), (7.763428541671333, 0.021921634674072266), (7.555845944774133, 0.04484367370605469), (7.247112303253325, 0.02435302734375), (7.079879294341532, 0.07896256446838379), (6.829960664924225, 0.02982473373413086), (6.621428399005009, 0.031891822814941406), (6.2900731728900805, 0.029165267944335938), (6.182726230344034, 0.031156539916992188), (6.16532917126213, 0.03003549575805664), (6.161026666754527, 0.03275132179260254), (6.144878464555872, 0.018575191497802734), (6.111827244035903, 0.042658329010009766), (6.032077678766986, 0.023711681365966797), (5.895267547976397, 0.0396580696105957), (5.873136056808797, 0.026977062225341797), (5.698674552058575, 0.035755157470703125), (5.670885021904342, 0.029825925827026367), (5.665851639392564, 0.03021073341369629), (5.665809611443838, 0.019799232482910156), (5.665669260024416, 0.04418659210205078), (5.6653199292885965, 0.030926227569580078), (5.664292872299722, 0.0259091854095459), (5.65944705976828, 0.03607821464538574), (5.645523765075975, 0.03129148483276367), (5.622720753645707, 0.01612687110900879), (5.5986225523851605, 0.033083438873291016), (5.596036421568571, 0.044596195220947266), (5.585725998615857, 0.02320384979248047), (5.583496830239823, 0.04270362854003906), (5.582892924629661, 0.022552013397216797), (5.582704331107444, 0.04478335380554199), (5.58259496681778, 0.03285932540893555), (5.582453102982579, 0.02227926254272461), (5.582173430390103, 0.045654296875), (5.58152244750515, 0.021816253662109375), (5.580571866282227, 0.04351019859313965), (5.578904655924882, 0.0308988094329834), (5.57574964619433, 0.02543926239013672), (5.573771548674404, 0.04846310615539551), (5.565758847163142, 0.032297611236572266), (5.5464940474728275, 0.033107757568359375), (5.520762658980955, 0.019712448120117188), (5.501168434666814, 0.04463458061218262), (5.489372277374758, 0.021901607513427734), (5.483499070720864, 0.05157756805419922), (5.474370466835269, 0.01723456382751465), (5.418590267093463, 0.04854297637939453), (5.390891338818934, 0.03140568733215332), (5.386762123723476, 0.03288102149963379), (5.38627460906827, 0.0323331356048584), (5.386161846536892, 0.03986811637878418), (5.386023322381343, 0.03389620780944824), (5.385780228392432, 0.0308840274810791), (5.385065328318686, 0.03583836555480957), (5.383969755322466, 0.03494906425476074), (5.382638148076351, 0.026173114776611328), (5.379581532423808, 0.037828683853149414), (5.3758940493807925, 0.030895233154296875), (5.3684451269272095, 0.031193971633911133), (5.355144177654623, 0.0358891487121582), (5.344297898660448, 0.017862319946289062), (5.338260032487998, 0.09105134010314941), (5.286934834825226, 0.034361839294433594), (5.228492834731013, 0.019165992736816406), (5.152944851834228, 0.04490947723388672), (5.089936459147198, 0.02631664276123047), (5.060493663035718, 0.03760027885437012), (5.034486402319187, 0.02617359161376953), (4.5408204218366315, 0.11136460304260254), (4.537819807110033, 0.07247257232666016), (4.350389714447566, 0.03189349174499512), (4.24900771206347, 0.03136777877807617), (4.230771805302477, 0.03195047378540039), (4.213930789832814, 0.0425870418548584), (4.190431131561127, 0.03395533561706543), (4.159947100102158, 0.028655290603637695), (4.114836876914393, 0.038449764251708984), (4.067386658829057, 0.027836084365844727), (4.043846621563622, 0.0475766658782959), (4.007804659282224, 0.03957033157348633), (4.0049829709372275, 0.042034149169921875), (3.9684844001310093, 0.05219864845275879), (3.9525634700197587, 0.03514981269836426), (3.951973021236636, 0.10897564888000488), (3.9519680593693427, 0.1622331142425537), (3.9519680065329403, 0.10876250267028809), (3.9495391652235075, 0.23908114433288574), (3.9493148779691096, 0.09415459632873535), (3.9493140982766928, 0.059249162673950195), (3.9493140438632324, 0.0710899829864502), (3.9493140389648005, 0.04038524627685547)], 'iteration_count': 1, 'computation_count': 1, 'final_loss': 3.9493140395952833, 'function': array([[ 9.57765256e-04,  3.70069391e+00],\n",
      "       [ 6.93323803e-02,  3.67814865e+00],\n",
      "       [ 1.37935760e-01,  3.65843163e+00],\n",
      "       [ 2.07247632e-01,  3.63938934e+00],\n",
      "       [ 2.77272604e-01,  3.61524823e+00],\n",
      "       [ 3.47479641e-01,  3.57909681e+00],\n",
      "       [ 4.17123059e-01,  3.52547085e+00],\n",
      "       [ 4.85522912e-01,  3.45169308e+00],\n",
      "       [ 5.52082088e-01,  3.35770372e+00],\n",
      "       [ 6.16266927e-01,  3.24423693e+00],\n",
      "       [ 6.77659392e-01,  3.11098297e+00],\n",
      "       [ 7.35990056e-01,  2.95684124e+00],\n",
      "       [ 7.91157212e-01,  2.78151821e+00],\n",
      "       [ 8.43255724e-01,  2.58650080e+00],\n",
      "       [ 8.92413395e-01,  2.37454680e+00],\n",
      "       [ 9.38475365e-01,  2.14847532e+00],\n",
      "       [ 9.80949754e-01,  1.91075631e+00],\n",
      "       [ 1.01921240e+00,  1.66368823e+00],\n",
      "       [ 1.05266329e+00,  1.40952693e+00],\n",
      "       [ 1.08080914e+00,  1.15099033e+00],\n",
      "       [ 1.10333558e+00,  8.91168919e-01],\n",
      "       [ 1.12013187e+00,  6.32171131e-01],\n",
      "       [ 1.13131740e+00,  3.74512706e-01],\n",
      "       [ 1.13727326e+00,  1.17991596e-01],\n",
      "       [ 1.13847376e+00, -1.37207744e-01],\n",
      "       [ 1.13516132e+00, -3.89985473e-01],\n",
      "       [ 1.12727006e+00, -6.38688531e-01],\n",
      "       [ 1.11471632e+00, -8.81510727e-01],\n",
      "       [ 1.09759587e+00, -1.11638481e+00],\n",
      "       [ 1.07597824e+00, -1.34160238e+00],\n",
      "       [ 1.04972272e+00, -1.55678728e+00],\n",
      "       [ 1.01870113e+00, -1.76225771e+00],\n",
      "       [ 9.83140884e-01, -1.95735809e+00],\n",
      "       [ 9.43638394e-01, -2.13979036e+00],\n",
      "       [ 9.00836933e-01, -2.30643997e+00],\n",
      "       [ 8.55162958e-01, -2.45514747e+00],\n",
      "       [ 8.06780291e-01, -2.58607432e+00],\n",
      "       [ 7.55677443e-01, -2.70126329e+00],\n",
      "       [ 7.01872786e-01, -2.80314798e+00],\n",
      "       [ 6.45521783e-01, -2.89358138e+00],\n",
      "       [ 5.86763258e-01, -2.97399306e+00],\n",
      "       [ 5.25612955e-01, -3.04612131e+00],\n",
      "       [ 4.62196377e-01, -3.11134411e+00],\n",
      "       [ 3.97046352e-01, -3.16886632e+00],\n",
      "       [ 3.31000862e-01, -3.21555470e+00],\n",
      "       [ 2.64787750e-01, -3.24773454e+00],\n",
      "       [ 1.98734536e-01, -3.26363495e+00],\n",
      "       [ 1.32743460e-01, -3.26529651e+00],\n",
      "       [ 6.65107902e-02, -3.25782423e+00],\n",
      "       [-3.79463574e-09, -3.24652395e+00]]), 'X': array([0.        , 0.02040816, 0.04081633, 0.06122449, 0.08163265,\n",
      "       0.10204082, 0.12244898, 0.14285714, 0.16326531, 0.18367347,\n",
      "       0.20408163, 0.2244898 , 0.24489796, 0.26530612, 0.28571429,\n",
      "       0.30612245, 0.32653061, 0.34693878, 0.36734694, 0.3877551 ,\n",
      "       0.40816327, 0.42857143, 0.44897959, 0.46938776, 0.48979592,\n",
      "       0.51020408, 0.53061224, 0.55102041, 0.57142857, 0.59183673,\n",
      "       0.6122449 , 0.63265306, 0.65306122, 0.67346939, 0.69387755,\n",
      "       0.71428571, 0.73469388, 0.75510204, 0.7755102 , 0.79591837,\n",
      "       0.81632653, 0.83673469, 0.85714286, 0.87755102, 0.89795918,\n",
      "       0.91836735, 0.93877551, 0.95918367, 0.97959184, 1.        ]), 'scalars': array([5.06114361])}\n"
     ]
    }
   ],
   "source": [
    "print(solver.results[-1])"
   ]
  },
  {
   "cell_type": "markdown",
   "metadata": {
    "pycharm": {
     "name": "#%% md\n"
    }
   },
   "source": [
    "We can see that the closer we are to the good value of $E$, the lesser is the loss. Thus, keeping the best solution we found should give us a good approximation of $E$."
   ]
  },
  {
   "cell_type": "markdown",
   "source": [
    "If we want to obtain an already optimised solution, we can use the `retrieve_solution` with the index of the solution we want. Using `recompute = True`, we can ask to recompute the probabilities and thus the curve (with a different sampling noise). If the grid has changed but `recompute = False`, it will perform an interpolation to match the new grid. With `store_new`, you can ask to keep the result in `solver.result`. The originally computed function (right after the optimisation) can be restored in the `solver.results` field using `restore_original`."
   ],
   "metadata": {
    "collapsed": false,
    "pycharm": {
     "name": "#%% md\n"
    }
   }
  },
  {
   "cell_type": "code",
   "execution_count": null,
   "outputs": [],
   "source": [
    "points = n_grid * 2\n",
    "solver.X = np.linspace(0, L, points)\n",
    "\n",
    "i = 0  # First solution\n",
    "recompute = False  # to recompute the curves. This will add random noise again in case of sampling.\n",
    "Y = solver.retrieve_solution(i, recompute=recompute)  # This is a synchronous job\n",
    "print(len(Y), points)"
   ],
   "metadata": {
    "collapsed": false,
    "pycharm": {
     "name": "#%%\n"
    }
   }
  },
  {
   "cell_type": "markdown",
   "source": [
    "It is of course possible to plot the approximations. The grid can be changed, provided it keeps the same border values. In such a case, the curves will be computed again to fit the new grid. Too many points will however lead to more sampling noise. Many parameters can be given to the plot function, for example to select some specific solutions (`plot_solutions` must be set to True for this to work). The scalar values of the best solution will be set as title."
   ],
   "metadata": {
    "collapsed": false,
    "pycharm": {
     "name": "#%% md\n"
    }
   }
  },
  {
   "cell_type": "code",
   "execution_count": 17,
   "outputs": [],
   "source": [
    "# If the grid has changed, solutions can be recomputed using recompute. Else, their former grid will be used to plot them.\n",
    "# With plot_solutions = True, all solutions will be plotted. Else, only the best solution will be plotted.\n",
    "solver.plot(plot_solutions=False, recompute=recompute)\n",
    "plt.legend()\n",
    "plt.xlabel(\"Distance\")\n",
    "plt.ylabel(\"Prob. ampli. density\")\n",
    "plt.show();"
   ],
   "metadata": {
    "collapsed": false,
    "pycharm": {
     "name": "#%%\n"
    }
   }
  },
  {
   "cell_type": "markdown",
   "metadata": {
    "pycharm": {
     "name": "#%% md\n"
    }
   },
   "source": [
    "There is another interest to computing several solutions. The solver comes with a post optimisation method that will try to find the best linear combination from the different solutions. It can be directly performed in the plot function if it has not been performed before, using only the selected solutions. The post optimisation result will be saved in `solver.post_optimisation_result`. If there are few solutions, or the solutions already give excellent results, the post-optimised solution can be farther than the best computed solution. However, most of the time, the post-optimised solution is better, less sensitive to sampling noise. Here, we select only the solutions with positive values (just because we can) but we do not want to avoid solutions in the post-optimisation process, so we compute post-optimisation before. We choose to plot only $| \\Psi \\rangle$ with `curve_indexes`.\n",
    "\n",
    "This time, as we asked to plot the post-optimised solution, the scalar values of the post-optimised solutions will be used as title, and not the ones of the best solution."
   ]
  },
  {
   "cell_type": "code",
   "execution_count": 18,
   "metadata": {
    "pycharm": {
     "name": "#%%\n"
    }
   },
   "outputs": [],
   "source": [
    "# Can also be used with only one solution, but do not expect a huge improvement in such a case.\n",
    "solver.post_optimisation()\n",
    "fig, axs = plt.subplots(1, 2)\n",
    "solver.plot(best_solution=False, post_optimised=True, post_selection_fn=lambda sol: sol[\"function\"][n_grid // 2, 0] > 0, curve_indexes=[0], where_to_plot=axs[0])\n",
    "solver.plot(post_optimised=False, curve_indexes=[0], where_to_plot=axs[1])\n",
    "for ax in axs:\n",
    "    ax.legend()\n",
    "    ax.set_xlabel(\"Distance\")\n",
    "    ax.set_ylabel(\"Prob. ampli. density\")\n",
    "plt.show();"
   ]
  },
  {
   "cell_type": "code",
   "execution_count": 19,
   "metadata": {
    "pycharm": {
     "name": "#%%\n"
    }
   },
   "outputs": [
    {
     "name": "stdout",
     "output_type": "stream",
     "text": [
      "best non-optimised loss: 3.9493140395952833\n",
      "post-optimised loss: 3.9493135140032436\n"
     ]
    }
   ],
   "source": [
    "best_sol = min(solver.results, key=lambda sol: sol[\"results\"][\"final_loss\"])\n",
    "print(\"best non-optimised loss:\", best_sol[\"results\"][\"final_loss\"])\n",
    "print(\"post-optimised loss:\", solver.post_optimisation_result[\"final_loss\"])"
   ]
  },
  {
   "cell_type": "markdown",
   "metadata": {
    "pycharm": {
     "name": "#%% md\n"
    }
   },
   "source": [
    "In both cases, we find a rather good approximation of $E$."
   ]
  },
  {
   "cell_type": "code",
   "execution_count": null,
   "outputs": [],
   "source": [
    "print(\"relative error on E (raw):\", abs((best_sol[\"results\"][\"scalars\"][0] - theorical_E) / theorical_E))\n",
    "print(\"relative error on E (post-optimised):\", abs((solver.post_optimisation_result[\"scalars\"][0] - theorical_E) / theorical_E))"
   ],
   "metadata": {
    "collapsed": false,
    "pycharm": {
     "name": "#%%\n"
    }
   }
  },
  {
   "cell_type": "markdown",
   "source": [
    "If we used a transformation not solving directly on the solution, we can use a `ResultPostProcess` to directly act on the solution. and retrieve the wanted function."
   ],
   "metadata": {
    "collapsed": false,
    "pycharm": {
     "name": "#%% md\n"
    }
   }
  },
  {
   "cell_type": "code",
   "execution_count": null,
   "outputs": [],
   "source": [
    "# Only if we worked on the second derivative\n",
    "if n_equations == 3:\n",
    "    post_process = DES.ResultPostProcess(y)  # y is the expression of the double integral\n",
    "    new_u = DES.AnalyticalSolution((2 / L) ** .5 * sp.sin(sp.pi * x))  # This time it's |Psi>\n",
    "\n",
    "    X = best_sol[\"X\"]\n",
    "    Y = best_sol[\"results\"][\"function\"]\n",
    "    scalars = best_sol[\"results\"][\"scalars\"]\n",
    "\n",
    "    plt.plot(X, post_process(Y, X, scalars), label=r\"$| \\Psi \\rangle$\")\n",
    "    plt.plot(X, new_u(X), \"k--\", label=\"Analytical solution\")\n",
    "    plt.legend()\n",
    "    plt.show()"
   ],
   "metadata": {
    "collapsed": false,
    "pycharm": {
     "name": "#%%\n"
    }
   }
  },
  {
   "cell_type": "markdown",
   "source": [
    "We can see that despite having a rather noisy second derivative, the first derivative is smooth and follows the analytical solution very well."
   ],
   "metadata": {
    "collapsed": false,
    "pycharm": {
     "name": "#%% md\n"
    }
   }
  },
  {
   "cell_type": "markdown",
   "source": [
    "We can also check how much loss each equation of our system of equation gives. This bar chart can be important to tune the weights of the equations if we want a better precision."
   ],
   "metadata": {
    "collapsed": false,
    "pycharm": {
     "name": "#%% md\n"
    }
   }
  },
  {
   "cell_type": "code",
   "execution_count": null,
   "outputs": [],
   "source": [
    "X = solver.post_optimisation_result[\"X\"]\n",
    "Y = solver.post_optimisation_result[\"function\"]\n",
    "scalars = solver.post_optimisation_result[\"scalars\"]\n",
    "\n",
    "plt.bar(range(n_equations), des.compute_all_losses(Y, X, scalars))\n",
    "plt.xticks(range(n_equations), labels = equation_names)\n",
    "plt.title(\"loss per equation\")\n",
    "plt.show()"
   ],
   "metadata": {
    "collapsed": false,
    "pycharm": {
     "name": "#%%\n"
    }
   }
  },
  {
   "cell_type": "markdown",
   "metadata": {
    "pycharm": {
     "name": "#%% md\n"
    }
   },
   "source": [
    "## Just a few notes about Processor schemes"
   ]
  },
  {
   "cell_type": "markdown",
   "metadata": {
    "pycharm": {
     "name": "#%% md\n"
    }
   },
   "source": [
    "As said before, any processor can be used to perform computation. However, they must fulfill some requirements in their structure.\n",
    "\n",
    "The most important thing is that they **must** have parameters with a name of the form \"coeffx\". When a grid value is given to the processor, it will first be linearly changed to be in the interval $[0, phase_{max}]$, then every parameter with the form \"coeffx\" will be given the value $coeff * x$. If the parameter's name is just \"x\", then it will be evaluated as if $coeff$ is 1. By default, $phase_{max}$ is $\\pi$. If all the coefficients are integers and on $t$ periodic variables, then setting $phase_{max}$ to $t$ will ensure that the solution is periodic (e.g. for phase shifters with $coeff = 1$, $t = 2 \\pi$).\n",
    "\n",
    "For other parameters, a random value will be given to this parameter, then the solver will alternate between optimising changing the weights and changing the parameters. Since it will compute an estimation of the gradient of the loss, it is not advised to use many parameters, as it requires a lot of samples to efficiently compute the gradient, unless you are using a simulator with no sampling.\n",
    "\n",
    "The processor below is a valid computer with several coefficients, allowing to use different values for the parameters. Of course, the same parameter can be used at different places as in any circuit."
   ]
  },
  {
   "cell_type": "code",
   "execution_count": 22,
   "metadata": {
    "pycharm": {
     "name": "#%%\n"
    }
   },
   "outputs": [
    {
     "data": {
      "image/svg+xml": [
       "<?xml version=\"1.0\" encoding=\"UTF-8\"?>\n",
       "<svg xmlns=\"http://www.w3.org/2000/svg\" xmlns:xlink=\"http://www.w3.org/1999/xlink\"\n",
       "     width=\"1312.5\" height=\"437.5\" viewBox=\"-28.5 0 1050 350\">\n",
       "<defs>\n",
       "</defs>\n",
       "<path d=\"M10,25 L25,25\" stroke-width=\"3\" stroke=\"darkred\" stroke-linejoin=\"miter\" fill=\"none\" />\n",
       "<path d=\"M10,75 L25,75\" stroke-width=\"3\" stroke=\"darkred\" stroke-linejoin=\"miter\" fill=\"none\" />\n",
       "<path d=\"M10,125 L25,125\" stroke-width=\"3\" stroke=\"darkred\" stroke-linejoin=\"miter\" fill=\"none\" />\n",
       "<path d=\"M10,175 L25,175\" stroke-width=\"3\" stroke=\"darkred\" stroke-linejoin=\"miter\" fill=\"none\" />\n",
       "<path d=\"M10,225 L25,225\" stroke-width=\"3\" stroke=\"darkred\" stroke-linejoin=\"miter\" fill=\"none\" />\n",
       "<path d=\"M10,275 L25,275\" stroke-width=\"3\" stroke=\"darkred\" stroke-linejoin=\"miter\" fill=\"none\" />\n",
       "<path d=\"M25,25 L53,25 L72,44\" stroke=\"darkred\" stroke-width=\"3\" fill=\"none\" />\n",
       "<path d=\"M78,44 L97,25 L125,25\" stroke=\"darkred\" stroke-width=\"3\" fill=\"none\" />\n",
       "<path d=\"M25,75 L53,75 L72,56\" stroke=\"darkred\" stroke-width=\"3\" fill=\"none\" />\n",
       "<path d=\"M78,56 L97,75 L125,75\" stroke=\"darkred\" stroke-width=\"3\" fill=\"none\" />\n",
       "<path d=\"M50,43 L100,43 L100,57 L50,57 Z\" stroke=\"black\" fill=\"black\" stroke-linejoin=\"miter\" />\n",
       "<text x=\"75\" y=\"85\" font-size=\"7\" text-anchor=\"middle\" dy=\"0em\"></text>\n",
       "<text x=\"75\" y=\"26\" font-size=\"7\" text-anchor=\"middle\" dy=\"0em\"></text>\n",
       "<path d=\"M50,43 L100,43 L100,47 L50,47 Z\" stroke=\"black\" fill=\"lightgray\" stroke-linejoin=\"miter\" />\n",
       "<path d=\"M93,50 L103,50 L103,60 L93,60 Z\" stroke=\"black\" fill=\"thistle\" stroke-linejoin=\"miter\" />\n",
       "<text x=\"98\" y=\"57\" font-size=\"6\" text-anchor=\"middle\" dy=\"0em\">Rx</text>\n",
       "<path d=\"M125,75 L175,75\" stroke=\"darkred\" stroke-width=\"3\" fill=\"none\" />\n",
       "<path d=\"M130,90 L139,90 L153,60 L144,60 L130,90 L139,90 Z\" stroke=\"black\" fill=\"gray\" stroke-linejoin=\"miter\" />\n",
       "<text x=\"147\" y=\"88\" font-size=\"7\" text-anchor=\"start\" dy=\"0em\">Φ=0.1514521040557687x</text>\n",
       "<path d=\"M125,25 L175,25\" stroke=\"darkred\" stroke-width=\"3\" fill=\"none\" />\n",
       "<path d=\"M130,40 L139,40 L153,10 L144,10 L130,40 L139,40 Z\" stroke=\"black\" fill=\"gray\" stroke-linejoin=\"miter\" />\n",
       "<text x=\"147\" y=\"38\" font-size=\"7\" text-anchor=\"start\" dy=\"0em\">Φ=0.45729970273514864x</text>\n",
       "<path d=\"M25,125 L53,125 L72,144\" stroke=\"darkred\" stroke-width=\"3\" fill=\"none\" />\n",
       "<path d=\"M78,144 L97,125 L125,125\" stroke=\"darkred\" stroke-width=\"3\" fill=\"none\" />\n",
       "<path d=\"M25,175 L53,175 L72,156\" stroke=\"darkred\" stroke-width=\"3\" fill=\"none\" />\n",
       "<path d=\"M78,156 L97,175 L125,175\" stroke=\"darkred\" stroke-width=\"3\" fill=\"none\" />\n",
       "<path d=\"M50,143 L100,143 L100,157 L50,157 Z\" stroke=\"black\" fill=\"black\" stroke-linejoin=\"miter\" />\n",
       "<text x=\"75\" y=\"185\" font-size=\"7\" text-anchor=\"middle\" dy=\"0em\"></text>\n",
       "<text x=\"75\" y=\"126\" font-size=\"7\" text-anchor=\"middle\" dy=\"0em\"></text>\n",
       "<path d=\"M50,143 L100,143 L100,147 L50,147 Z\" stroke=\"black\" fill=\"lightgray\" stroke-linejoin=\"miter\" />\n",
       "<path d=\"M93,150 L103,150 L103,160 L93,160 Z\" stroke=\"black\" fill=\"thistle\" stroke-linejoin=\"miter\" />\n",
       "<text x=\"98\" y=\"157\" font-size=\"6\" text-anchor=\"middle\" dy=\"0em\">Rx</text>\n",
       "<path d=\"M125,175 L175,175\" stroke=\"darkred\" stroke-width=\"3\" fill=\"none\" />\n",
       "<path d=\"M130,190 L139,190 L153,160 L144,160 L130,190 L139,190 Z\" stroke=\"black\" fill=\"gray\" stroke-linejoin=\"miter\" />\n",
       "<text x=\"147\" y=\"188\" font-size=\"7\" text-anchor=\"start\" dy=\"0em\">Φ=0.26903878483211996x</text>\n",
       "<path d=\"M125,125 L175,125\" stroke=\"darkred\" stroke-width=\"3\" fill=\"none\" />\n",
       "<path d=\"M130,140 L139,140 L153,110 L144,110 L130,140 L139,140 Z\" stroke=\"black\" fill=\"gray\" stroke-linejoin=\"miter\" />\n",
       "<text x=\"147\" y=\"138\" font-size=\"7\" text-anchor=\"start\" dy=\"0em\">Φ=0.7678355312747195x</text>\n",
       "<path d=\"M25,225 L53,225 L72,244\" stroke=\"darkred\" stroke-width=\"3\" fill=\"none\" />\n",
       "<path d=\"M78,244 L97,225 L125,225\" stroke=\"darkred\" stroke-width=\"3\" fill=\"none\" />\n",
       "<path d=\"M25,275 L53,275 L72,256\" stroke=\"darkred\" stroke-width=\"3\" fill=\"none\" />\n",
       "<path d=\"M78,256 L97,275 L125,275\" stroke=\"darkred\" stroke-width=\"3\" fill=\"none\" />\n",
       "<path d=\"M50,243 L100,243 L100,257 L50,257 Z\" stroke=\"black\" fill=\"black\" stroke-linejoin=\"miter\" />\n",
       "<text x=\"75\" y=\"285\" font-size=\"7\" text-anchor=\"middle\" dy=\"0em\"></text>\n",
       "<text x=\"75\" y=\"226\" font-size=\"7\" text-anchor=\"middle\" dy=\"0em\"></text>\n",
       "<path d=\"M50,243 L100,243 L100,247 L50,247 Z\" stroke=\"black\" fill=\"lightgray\" stroke-linejoin=\"miter\" />\n",
       "<path d=\"M93,250 L103,250 L103,260 L93,260 Z\" stroke=\"black\" fill=\"thistle\" stroke-linejoin=\"miter\" />\n",
       "<text x=\"98\" y=\"257\" font-size=\"6\" text-anchor=\"middle\" dy=\"0em\">Rx</text>\n",
       "<path d=\"M125,275 L175,275\" stroke=\"darkred\" stroke-width=\"3\" fill=\"none\" />\n",
       "<path d=\"M130,290 L139,290 L153,260 L144,260 L130,290 L139,290 Z\" stroke=\"black\" fill=\"gray\" stroke-linejoin=\"miter\" />\n",
       "<text x=\"147\" y=\"288\" font-size=\"7\" text-anchor=\"start\" dy=\"0em\">Φ=0.7517906645607364x</text>\n",
       "<path d=\"M125,225 L175,225\" stroke=\"darkred\" stroke-width=\"3\" fill=\"none\" />\n",
       "<path d=\"M130,240 L139,240 L153,210 L144,210 L130,240 L139,240 Z\" stroke=\"black\" fill=\"gray\" stroke-linejoin=\"miter\" />\n",
       "<text x=\"147\" y=\"238\" font-size=\"7\" text-anchor=\"start\" dy=\"0em\">Φ=0.4022032725493171x</text>\n",
       "<path d=\"M175,75 L203,75 L222,94\" stroke=\"darkred\" stroke-width=\"3\" fill=\"none\" />\n",
       "<path d=\"M228,94 L247,75 L275,75\" stroke=\"darkred\" stroke-width=\"3\" fill=\"none\" />\n",
       "<path d=\"M175,125 L203,125 L222,106\" stroke=\"darkred\" stroke-width=\"3\" fill=\"none\" />\n",
       "<path d=\"M228,106 L247,125 L275,125\" stroke=\"darkred\" stroke-width=\"3\" fill=\"none\" />\n",
       "<path d=\"M200,93 L250,93 L250,107 L200,107 Z\" stroke=\"black\" fill=\"black\" stroke-linejoin=\"miter\" />\n",
       "<text x=\"225\" y=\"135\" font-size=\"7\" text-anchor=\"middle\" dy=\"0em\"></text>\n",
       "<text x=\"225\" y=\"76\" font-size=\"7\" text-anchor=\"middle\" dy=\"0em\"></text>\n",
       "<path d=\"M200,93 L250,93 L250,97 L200,97 Z\" stroke=\"black\" fill=\"lightgray\" stroke-linejoin=\"miter\" />\n",
       "<path d=\"M243,100 L253,100 L253,110 L243,110 Z\" stroke=\"black\" fill=\"thistle\" stroke-linejoin=\"miter\" />\n",
       "<text x=\"248\" y=\"107\" font-size=\"6\" text-anchor=\"middle\" dy=\"0em\">Rx</text>\n",
       "<path d=\"M275,125 L325,125\" stroke=\"darkred\" stroke-width=\"3\" fill=\"none\" />\n",
       "<path d=\"M280,140 L289,140 L303,110 L294,110 L280,140 L289,140 Z\" stroke=\"black\" fill=\"gray\" stroke-linejoin=\"miter\" />\n",
       "<text x=\"297\" y=\"138\" font-size=\"7\" text-anchor=\"start\" dy=\"0em\">Φ=0.3241170022015002x</text>\n",
       "<path d=\"M275,75 L325,75\" stroke=\"darkred\" stroke-width=\"3\" fill=\"none\" />\n",
       "<path d=\"M280,90 L289,90 L303,60 L294,60 L280,90 L289,90 Z\" stroke=\"black\" fill=\"gray\" stroke-linejoin=\"miter\" />\n",
       "<text x=\"297\" y=\"88\" font-size=\"7\" text-anchor=\"start\" dy=\"0em\">Φ=0.2975019780937318x</text>\n",
       "<path d=\"M175,175 L203,175 L222,194\" stroke=\"darkred\" stroke-width=\"3\" fill=\"none\" />\n",
       "<path d=\"M228,194 L247,175 L275,175\" stroke=\"darkred\" stroke-width=\"3\" fill=\"none\" />\n",
       "<path d=\"M175,225 L203,225 L222,206\" stroke=\"darkred\" stroke-width=\"3\" fill=\"none\" />\n",
       "<path d=\"M228,206 L247,225 L275,225\" stroke=\"darkred\" stroke-width=\"3\" fill=\"none\" />\n",
       "<path d=\"M200,193 L250,193 L250,207 L200,207 Z\" stroke=\"black\" fill=\"black\" stroke-linejoin=\"miter\" />\n",
       "<text x=\"225\" y=\"235\" font-size=\"7\" text-anchor=\"middle\" dy=\"0em\"></text>\n",
       "<text x=\"225\" y=\"176\" font-size=\"7\" text-anchor=\"middle\" dy=\"0em\"></text>\n",
       "<path d=\"M200,193 L250,193 L250,197 L200,197 Z\" stroke=\"black\" fill=\"lightgray\" stroke-linejoin=\"miter\" />\n",
       "<path d=\"M243,200 L253,200 L253,210 L243,210 Z\" stroke=\"black\" fill=\"thistle\" stroke-linejoin=\"miter\" />\n",
       "<text x=\"248\" y=\"207\" font-size=\"6\" text-anchor=\"middle\" dy=\"0em\">Rx</text>\n",
       "<path d=\"M275,225 L325,225\" stroke=\"darkred\" stroke-width=\"3\" fill=\"none\" />\n",
       "<path d=\"M280,240 L289,240 L303,210 L294,210 L280,240 L289,240 Z\" stroke=\"black\" fill=\"gray\" stroke-linejoin=\"miter\" />\n",
       "<text x=\"297\" y=\"238\" font-size=\"7\" text-anchor=\"start\" dy=\"0em\">Φ=0.19591333254102283x</text>\n",
       "<path d=\"M275,175 L325,175\" stroke=\"darkred\" stroke-width=\"3\" fill=\"none\" />\n",
       "<path d=\"M280,190 L289,190 L303,160 L294,160 L280,190 L289,190 Z\" stroke=\"black\" fill=\"gray\" stroke-linejoin=\"miter\" />\n",
       "<text x=\"297\" y=\"188\" font-size=\"7\" text-anchor=\"start\" dy=\"0em\">Φ=0.44499268380643076x</text>\n",
       "<path d=\"M175,25 L325,25\" stroke=\"darkred\" stroke-width=\"3\" fill=\"none\" />\n",
       "<path d=\"M325,25 L353,25 L372,44\" stroke=\"darkred\" stroke-width=\"3\" fill=\"none\" />\n",
       "<path d=\"M378,44 L397,25 L425,25\" stroke=\"darkred\" stroke-width=\"3\" fill=\"none\" />\n",
       "<path d=\"M325,75 L353,75 L372,56\" stroke=\"darkred\" stroke-width=\"3\" fill=\"none\" />\n",
       "<path d=\"M378,56 L397,75 L425,75\" stroke=\"darkred\" stroke-width=\"3\" fill=\"none\" />\n",
       "<path d=\"M350,43 L400,43 L400,57 L350,57 Z\" stroke=\"black\" fill=\"black\" stroke-linejoin=\"miter\" />\n",
       "<text x=\"375\" y=\"85\" font-size=\"7\" text-anchor=\"middle\" dy=\"0em\"></text>\n",
       "<text x=\"375\" y=\"26\" font-size=\"7\" text-anchor=\"middle\" dy=\"0em\"></text>\n",
       "<path d=\"M350,43 L400,43 L400,47 L350,47 Z\" stroke=\"black\" fill=\"lightgray\" stroke-linejoin=\"miter\" />\n",
       "<path d=\"M393,50 L403,50 L403,60 L393,60 Z\" stroke=\"black\" fill=\"thistle\" stroke-linejoin=\"miter\" />\n",
       "<text x=\"398\" y=\"57\" font-size=\"6\" text-anchor=\"middle\" dy=\"0em\">Rx</text>\n",
       "<path d=\"M425,75 L475,75\" stroke=\"darkred\" stroke-width=\"3\" fill=\"none\" />\n",
       "<path d=\"M430,90 L439,90 L453,60 L444,60 L430,90 L439,90 Z\" stroke=\"black\" fill=\"gray\" stroke-linejoin=\"miter\" />\n",
       "<text x=\"447\" y=\"88\" font-size=\"7\" text-anchor=\"start\" dy=\"0em\">Φ=0.39166706872567303x</text>\n",
       "<path d=\"M425,25 L475,25\" stroke=\"darkred\" stroke-width=\"3\" fill=\"none\" />\n",
       "<path d=\"M430,40 L439,40 L453,10 L444,10 L430,40 L439,40 Z\" stroke=\"black\" fill=\"gray\" stroke-linejoin=\"miter\" />\n",
       "<text x=\"447\" y=\"38\" font-size=\"7\" text-anchor=\"start\" dy=\"0em\">Φ=0.8739758941590565x</text>\n",
       "<path d=\"M325,125 L353,125 L372,144\" stroke=\"darkred\" stroke-width=\"3\" fill=\"none\" />\n",
       "<path d=\"M378,144 L397,125 L425,125\" stroke=\"darkred\" stroke-width=\"3\" fill=\"none\" />\n",
       "<path d=\"M325,175 L353,175 L372,156\" stroke=\"darkred\" stroke-width=\"3\" fill=\"none\" />\n",
       "<path d=\"M378,156 L397,175 L425,175\" stroke=\"darkred\" stroke-width=\"3\" fill=\"none\" />\n",
       "<path d=\"M350,143 L400,143 L400,157 L350,157 Z\" stroke=\"black\" fill=\"black\" stroke-linejoin=\"miter\" />\n",
       "<text x=\"375\" y=\"185\" font-size=\"7\" text-anchor=\"middle\" dy=\"0em\"></text>\n",
       "<text x=\"375\" y=\"126\" font-size=\"7\" text-anchor=\"middle\" dy=\"0em\"></text>\n",
       "<path d=\"M350,143 L400,143 L400,147 L350,147 Z\" stroke=\"black\" fill=\"lightgray\" stroke-linejoin=\"miter\" />\n",
       "<path d=\"M393,150 L403,150 L403,160 L393,160 Z\" stroke=\"black\" fill=\"thistle\" stroke-linejoin=\"miter\" />\n",
       "<text x=\"398\" y=\"157\" font-size=\"6\" text-anchor=\"middle\" dy=\"0em\">Rx</text>\n",
       "<path d=\"M425,175 L475,175\" stroke=\"darkred\" stroke-width=\"3\" fill=\"none\" />\n",
       "<path d=\"M430,190 L439,190 L453,160 L444,160 L430,190 L439,190 Z\" stroke=\"black\" fill=\"gray\" stroke-linejoin=\"miter\" />\n",
       "<text x=\"447\" y=\"188\" font-size=\"7\" text-anchor=\"start\" dy=\"0em\">Φ=0.1978980663947899x</text>\n",
       "<path d=\"M425,125 L475,125\" stroke=\"darkred\" stroke-width=\"3\" fill=\"none\" />\n",
       "<path d=\"M430,140 L439,140 L453,110 L444,110 L430,140 L439,140 Z\" stroke=\"black\" fill=\"gray\" stroke-linejoin=\"miter\" />\n",
       "<text x=\"447\" y=\"138\" font-size=\"7\" text-anchor=\"start\" dy=\"0em\">Φ=0.5986162031882447x</text>\n",
       "<path d=\"M175,275 L325,275\" stroke=\"darkred\" stroke-width=\"3\" fill=\"none\" />\n",
       "<path d=\"M325,225 L353,225 L372,244\" stroke=\"darkred\" stroke-width=\"3\" fill=\"none\" />\n",
       "<path d=\"M378,244 L397,225 L425,225\" stroke=\"darkred\" stroke-width=\"3\" fill=\"none\" />\n",
       "<path d=\"M325,275 L353,275 L372,256\" stroke=\"darkred\" stroke-width=\"3\" fill=\"none\" />\n",
       "<path d=\"M378,256 L397,275 L425,275\" stroke=\"darkred\" stroke-width=\"3\" fill=\"none\" />\n",
       "<path d=\"M350,243 L400,243 L400,257 L350,257 Z\" stroke=\"black\" fill=\"black\" stroke-linejoin=\"miter\" />\n",
       "<text x=\"375\" y=\"285\" font-size=\"7\" text-anchor=\"middle\" dy=\"0em\"></text>\n",
       "<text x=\"375\" y=\"226\" font-size=\"7\" text-anchor=\"middle\" dy=\"0em\"></text>\n",
       "<path d=\"M350,243 L400,243 L400,247 L350,247 Z\" stroke=\"black\" fill=\"lightgray\" stroke-linejoin=\"miter\" />\n",
       "<path d=\"M393,250 L403,250 L403,260 L393,260 Z\" stroke=\"black\" fill=\"thistle\" stroke-linejoin=\"miter\" />\n",
       "<text x=\"398\" y=\"257\" font-size=\"6\" text-anchor=\"middle\" dy=\"0em\">Rx</text>\n",
       "<path d=\"M425,275 L475,275\" stroke=\"darkred\" stroke-width=\"3\" fill=\"none\" />\n",
       "<path d=\"M430,290 L439,290 L453,260 L444,260 L430,290 L439,290 Z\" stroke=\"black\" fill=\"gray\" stroke-linejoin=\"miter\" />\n",
       "<text x=\"447\" y=\"288\" font-size=\"7\" text-anchor=\"start\" dy=\"0em\">Φ=0.2537772481338427x</text>\n",
       "<path d=\"M425,225 L475,225\" stroke=\"darkred\" stroke-width=\"3\" fill=\"none\" />\n",
       "<path d=\"M430,240 L439,240 L453,210 L444,210 L430,240 L439,240 Z\" stroke=\"black\" fill=\"gray\" stroke-linejoin=\"miter\" />\n",
       "<text x=\"447\" y=\"238\" font-size=\"7\" text-anchor=\"start\" dy=\"0em\">Φ=0.00951342915472464x</text>\n",
       "<path d=\"M475,75 L503,75 L522,94\" stroke=\"darkred\" stroke-width=\"3\" fill=\"none\" />\n",
       "<path d=\"M528,94 L547,75 L575,75\" stroke=\"darkred\" stroke-width=\"3\" fill=\"none\" />\n",
       "<path d=\"M475,125 L503,125 L522,106\" stroke=\"darkred\" stroke-width=\"3\" fill=\"none\" />\n",
       "<path d=\"M528,106 L547,125 L575,125\" stroke=\"darkred\" stroke-width=\"3\" fill=\"none\" />\n",
       "<path d=\"M500,93 L550,93 L550,107 L500,107 Z\" stroke=\"black\" fill=\"black\" stroke-linejoin=\"miter\" />\n",
       "<text x=\"525\" y=\"135\" font-size=\"7\" text-anchor=\"middle\" dy=\"0em\"></text>\n",
       "<text x=\"525\" y=\"76\" font-size=\"7\" text-anchor=\"middle\" dy=\"0em\"></text>\n",
       "<path d=\"M500,93 L550,93 L550,97 L500,97 Z\" stroke=\"black\" fill=\"lightgray\" stroke-linejoin=\"miter\" />\n",
       "<path d=\"M543,100 L553,100 L553,110 L543,110 Z\" stroke=\"black\" fill=\"thistle\" stroke-linejoin=\"miter\" />\n",
       "<text x=\"548\" y=\"107\" font-size=\"6\" text-anchor=\"middle\" dy=\"0em\">Rx</text>\n",
       "<path d=\"M575,125 L625,125\" stroke=\"darkred\" stroke-width=\"3\" fill=\"none\" />\n",
       "<path d=\"M580,140 L589,140 L603,110 L594,110 L580,140 L589,140 Z\" stroke=\"black\" fill=\"gray\" stroke-linejoin=\"miter\" />\n",
       "<text x=\"597\" y=\"138\" font-size=\"7\" text-anchor=\"start\" dy=\"0em\">Φ=0.640125038252021x</text>\n",
       "<path d=\"M575,75 L625,75\" stroke=\"darkred\" stroke-width=\"3\" fill=\"none\" />\n",
       "<path d=\"M580,90 L589,90 L603,60 L594,60 L580,90 L589,90 Z\" stroke=\"black\" fill=\"gray\" stroke-linejoin=\"miter\" />\n",
       "<text x=\"597\" y=\"88\" font-size=\"7\" text-anchor=\"start\" dy=\"0em\">Φ=0.2176474132510755x</text>\n",
       "<path d=\"M475,175 L503,175 L522,194\" stroke=\"darkred\" stroke-width=\"3\" fill=\"none\" />\n",
       "<path d=\"M528,194 L547,175 L575,175\" stroke=\"darkred\" stroke-width=\"3\" fill=\"none\" />\n",
       "<path d=\"M475,225 L503,225 L522,206\" stroke=\"darkred\" stroke-width=\"3\" fill=\"none\" />\n",
       "<path d=\"M528,206 L547,225 L575,225\" stroke=\"darkred\" stroke-width=\"3\" fill=\"none\" />\n",
       "<path d=\"M500,193 L550,193 L550,207 L500,207 Z\" stroke=\"black\" fill=\"black\" stroke-linejoin=\"miter\" />\n",
       "<text x=\"525\" y=\"235\" font-size=\"7\" text-anchor=\"middle\" dy=\"0em\"></text>\n",
       "<text x=\"525\" y=\"176\" font-size=\"7\" text-anchor=\"middle\" dy=\"0em\"></text>\n",
       "<path d=\"M500,193 L550,193 L550,197 L500,197 Z\" stroke=\"black\" fill=\"lightgray\" stroke-linejoin=\"miter\" />\n",
       "<path d=\"M543,200 L553,200 L553,210 L543,210 Z\" stroke=\"black\" fill=\"thistle\" stroke-linejoin=\"miter\" />\n",
       "<text x=\"548\" y=\"207\" font-size=\"6\" text-anchor=\"middle\" dy=\"0em\">Rx</text>\n",
       "<path d=\"M575,225 L625,225\" stroke=\"darkred\" stroke-width=\"3\" fill=\"none\" />\n",
       "<path d=\"M580,240 L589,240 L603,210 L594,210 L580,240 L589,240 Z\" stroke=\"black\" fill=\"gray\" stroke-linejoin=\"miter\" />\n",
       "<text x=\"597\" y=\"238\" font-size=\"7\" text-anchor=\"start\" dy=\"0em\">Φ=0.9852578290556068x</text>\n",
       "<path d=\"M575,175 L625,175\" stroke=\"darkred\" stroke-width=\"3\" fill=\"none\" />\n",
       "<path d=\"M580,190 L589,190 L603,160 L594,160 L580,190 L589,190 Z\" stroke=\"black\" fill=\"gray\" stroke-linejoin=\"miter\" />\n",
       "<text x=\"597\" y=\"188\" font-size=\"7\" text-anchor=\"start\" dy=\"0em\">Φ=0.0759545651044714x</text>\n",
       "<path d=\"M475,25 L625,25\" stroke=\"darkred\" stroke-width=\"3\" fill=\"none\" />\n",
       "<path d=\"M625,25 L653,25 L672,44\" stroke=\"darkred\" stroke-width=\"3\" fill=\"none\" />\n",
       "<path d=\"M678,44 L697,25 L725,25\" stroke=\"darkred\" stroke-width=\"3\" fill=\"none\" />\n",
       "<path d=\"M625,75 L653,75 L672,56\" stroke=\"darkred\" stroke-width=\"3\" fill=\"none\" />\n",
       "<path d=\"M678,56 L697,75 L725,75\" stroke=\"darkred\" stroke-width=\"3\" fill=\"none\" />\n",
       "<path d=\"M650,43 L700,43 L700,57 L650,57 Z\" stroke=\"black\" fill=\"black\" stroke-linejoin=\"miter\" />\n",
       "<text x=\"675\" y=\"85\" font-size=\"7\" text-anchor=\"middle\" dy=\"0em\"></text>\n",
       "<text x=\"675\" y=\"26\" font-size=\"7\" text-anchor=\"middle\" dy=\"0em\"></text>\n",
       "<path d=\"M650,43 L700,43 L700,47 L650,47 Z\" stroke=\"black\" fill=\"lightgray\" stroke-linejoin=\"miter\" />\n",
       "<path d=\"M693,50 L703,50 L703,60 L693,60 Z\" stroke=\"black\" fill=\"thistle\" stroke-linejoin=\"miter\" />\n",
       "<text x=\"698\" y=\"57\" font-size=\"6\" text-anchor=\"middle\" dy=\"0em\">Rx</text>\n",
       "<path d=\"M725,75 L775,75\" stroke=\"darkred\" stroke-width=\"3\" fill=\"none\" />\n",
       "<path d=\"M730,90 L739,90 L753,60 L744,60 L730,90 L739,90 Z\" stroke=\"black\" fill=\"gray\" stroke-linejoin=\"miter\" />\n",
       "<text x=\"747\" y=\"88\" font-size=\"7\" text-anchor=\"start\" dy=\"0em\">Φ=0.5286089949935231x</text>\n",
       "<path d=\"M725,25 L775,25\" stroke=\"darkred\" stroke-width=\"3\" fill=\"none\" />\n",
       "<path d=\"M730,40 L739,40 L753,10 L744,10 L730,40 L739,40 Z\" stroke=\"black\" fill=\"gray\" stroke-linejoin=\"miter\" />\n",
       "<text x=\"747\" y=\"38\" font-size=\"7\" text-anchor=\"start\" dy=\"0em\">Φ=0.8366986699968583x</text>\n",
       "<path d=\"M625,125 L653,125 L672,144\" stroke=\"darkred\" stroke-width=\"3\" fill=\"none\" />\n",
       "<path d=\"M678,144 L697,125 L725,125\" stroke=\"darkred\" stroke-width=\"3\" fill=\"none\" />\n",
       "<path d=\"M625,175 L653,175 L672,156\" stroke=\"darkred\" stroke-width=\"3\" fill=\"none\" />\n",
       "<path d=\"M678,156 L697,175 L725,175\" stroke=\"darkred\" stroke-width=\"3\" fill=\"none\" />\n",
       "<path d=\"M650,143 L700,143 L700,157 L650,157 Z\" stroke=\"black\" fill=\"black\" stroke-linejoin=\"miter\" />\n",
       "<text x=\"675\" y=\"185\" font-size=\"7\" text-anchor=\"middle\" dy=\"0em\"></text>\n",
       "<text x=\"675\" y=\"126\" font-size=\"7\" text-anchor=\"middle\" dy=\"0em\"></text>\n",
       "<path d=\"M650,143 L700,143 L700,147 L650,147 Z\" stroke=\"black\" fill=\"lightgray\" stroke-linejoin=\"miter\" />\n",
       "<path d=\"M693,150 L703,150 L703,160 L693,160 Z\" stroke=\"black\" fill=\"thistle\" stroke-linejoin=\"miter\" />\n",
       "<text x=\"698\" y=\"157\" font-size=\"6\" text-anchor=\"middle\" dy=\"0em\">Rx</text>\n",
       "<path d=\"M725,175 L775,175\" stroke=\"darkred\" stroke-width=\"3\" fill=\"none\" />\n",
       "<path d=\"M730,190 L739,190 L753,160 L744,160 L730,190 L739,190 Z\" stroke=\"black\" fill=\"gray\" stroke-linejoin=\"miter\" />\n",
       "<text x=\"747\" y=\"188\" font-size=\"7\" text-anchor=\"start\" dy=\"0em\">Φ=0.4901231617747587x</text>\n",
       "<path d=\"M725,125 L775,125\" stroke=\"darkred\" stroke-width=\"3\" fill=\"none\" />\n",
       "<path d=\"M730,140 L739,140 L753,110 L744,110 L730,140 L739,140 Z\" stroke=\"black\" fill=\"gray\" stroke-linejoin=\"miter\" />\n",
       "<text x=\"747\" y=\"138\" font-size=\"7\" text-anchor=\"start\" dy=\"0em\">Φ=0.07674045806025565x</text>\n",
       "<path d=\"M475,275 L625,275\" stroke=\"darkred\" stroke-width=\"3\" fill=\"none\" />\n",
       "<path d=\"M625,225 L653,225 L672,244\" stroke=\"darkred\" stroke-width=\"3\" fill=\"none\" />\n",
       "<path d=\"M678,244 L697,225 L725,225\" stroke=\"darkred\" stroke-width=\"3\" fill=\"none\" />\n",
       "<path d=\"M625,275 L653,275 L672,256\" stroke=\"darkred\" stroke-width=\"3\" fill=\"none\" />\n",
       "<path d=\"M678,256 L697,275 L725,275\" stroke=\"darkred\" stroke-width=\"3\" fill=\"none\" />\n",
       "<path d=\"M650,243 L700,243 L700,257 L650,257 Z\" stroke=\"black\" fill=\"black\" stroke-linejoin=\"miter\" />\n",
       "<text x=\"675\" y=\"285\" font-size=\"7\" text-anchor=\"middle\" dy=\"0em\"></text>\n",
       "<text x=\"675\" y=\"226\" font-size=\"7\" text-anchor=\"middle\" dy=\"0em\"></text>\n",
       "<path d=\"M650,243 L700,243 L700,247 L650,247 Z\" stroke=\"black\" fill=\"lightgray\" stroke-linejoin=\"miter\" />\n",
       "<path d=\"M693,250 L703,250 L703,260 L693,260 Z\" stroke=\"black\" fill=\"thistle\" stroke-linejoin=\"miter\" />\n",
       "<text x=\"698\" y=\"257\" font-size=\"6\" text-anchor=\"middle\" dy=\"0em\">Rx</text>\n",
       "<path d=\"M725,275 L775,275\" stroke=\"darkred\" stroke-width=\"3\" fill=\"none\" />\n",
       "<path d=\"M730,290 L739,290 L753,260 L744,260 L730,290 L739,290 Z\" stroke=\"black\" fill=\"gray\" stroke-linejoin=\"miter\" />\n",
       "<text x=\"747\" y=\"288\" font-size=\"7\" text-anchor=\"start\" dy=\"0em\">Φ=0.2544195711006769x</text>\n",
       "<path d=\"M725,225 L775,225\" stroke=\"darkred\" stroke-width=\"3\" fill=\"none\" />\n",
       "<path d=\"M730,240 L739,240 L753,210 L744,210 L730,240 L739,240 Z\" stroke=\"black\" fill=\"gray\" stroke-linejoin=\"miter\" />\n",
       "<text x=\"747\" y=\"238\" font-size=\"7\" text-anchor=\"start\" dy=\"0em\">Φ=0.39203186121526234x</text>\n",
       "<path d=\"M775,75 L803,75 L822,94\" stroke=\"darkred\" stroke-width=\"3\" fill=\"none\" />\n",
       "<path d=\"M828,94 L847,75 L875,75\" stroke=\"darkred\" stroke-width=\"3\" fill=\"none\" />\n",
       "<path d=\"M775,125 L803,125 L822,106\" stroke=\"darkred\" stroke-width=\"3\" fill=\"none\" />\n",
       "<path d=\"M828,106 L847,125 L875,125\" stroke=\"darkred\" stroke-width=\"3\" fill=\"none\" />\n",
       "<path d=\"M800,93 L850,93 L850,107 L800,107 Z\" stroke=\"black\" fill=\"black\" stroke-linejoin=\"miter\" />\n",
       "<text x=\"825\" y=\"135\" font-size=\"7\" text-anchor=\"middle\" dy=\"0em\"></text>\n",
       "<text x=\"825\" y=\"76\" font-size=\"7\" text-anchor=\"middle\" dy=\"0em\"></text>\n",
       "<path d=\"M800,93 L850,93 L850,97 L800,97 Z\" stroke=\"black\" fill=\"lightgray\" stroke-linejoin=\"miter\" />\n",
       "<path d=\"M843,100 L853,100 L853,110 L843,110 Z\" stroke=\"black\" fill=\"thistle\" stroke-linejoin=\"miter\" />\n",
       "<text x=\"848\" y=\"107\" font-size=\"6\" text-anchor=\"middle\" dy=\"0em\">Rx</text>\n",
       "<path d=\"M875,125 L925,125\" stroke=\"darkred\" stroke-width=\"3\" fill=\"none\" />\n",
       "<path d=\"M880,140 L889,140 L903,110 L894,110 L880,140 L889,140 Z\" stroke=\"black\" fill=\"gray\" stroke-linejoin=\"miter\" />\n",
       "<text x=\"897\" y=\"138\" font-size=\"7\" text-anchor=\"start\" dy=\"0em\">Φ=0.017517983326524766x</text>\n",
       "<path d=\"M875,75 L925,75\" stroke=\"darkred\" stroke-width=\"3\" fill=\"none\" />\n",
       "<path d=\"M880,90 L889,90 L903,60 L894,60 L880,90 L889,90 Z\" stroke=\"black\" fill=\"gray\" stroke-linejoin=\"miter\" />\n",
       "<text x=\"897\" y=\"88\" font-size=\"7\" text-anchor=\"start\" dy=\"0em\">Φ=0.8995954781846833x</text>\n",
       "<path d=\"M775,175 L803,175 L822,194\" stroke=\"darkred\" stroke-width=\"3\" fill=\"none\" />\n",
       "<path d=\"M828,194 L847,175 L875,175\" stroke=\"darkred\" stroke-width=\"3\" fill=\"none\" />\n",
       "<path d=\"M775,225 L803,225 L822,206\" stroke=\"darkred\" stroke-width=\"3\" fill=\"none\" />\n",
       "<path d=\"M828,206 L847,225 L875,225\" stroke=\"darkred\" stroke-width=\"3\" fill=\"none\" />\n",
       "<path d=\"M800,193 L850,193 L850,207 L800,207 Z\" stroke=\"black\" fill=\"black\" stroke-linejoin=\"miter\" />\n",
       "<text x=\"825\" y=\"235\" font-size=\"7\" text-anchor=\"middle\" dy=\"0em\"></text>\n",
       "<text x=\"825\" y=\"176\" font-size=\"7\" text-anchor=\"middle\" dy=\"0em\"></text>\n",
       "<path d=\"M800,193 L850,193 L850,197 L800,197 Z\" stroke=\"black\" fill=\"lightgray\" stroke-linejoin=\"miter\" />\n",
       "<path d=\"M843,200 L853,200 L853,210 L843,210 Z\" stroke=\"black\" fill=\"thistle\" stroke-linejoin=\"miter\" />\n",
       "<text x=\"848\" y=\"207\" font-size=\"6\" text-anchor=\"middle\" dy=\"0em\">Rx</text>\n",
       "<path d=\"M875,225 L925,225\" stroke=\"darkred\" stroke-width=\"3\" fill=\"none\" />\n",
       "<path d=\"M880,240 L889,240 L903,210 L894,210 L880,240 L889,240 Z\" stroke=\"black\" fill=\"gray\" stroke-linejoin=\"miter\" />\n",
       "<text x=\"897\" y=\"238\" font-size=\"7\" text-anchor=\"start\" dy=\"0em\">Φ=0.9363885215311746x</text>\n",
       "<path d=\"M875,175 L925,175\" stroke=\"darkred\" stroke-width=\"3\" fill=\"none\" />\n",
       "<path d=\"M880,190 L889,190 L903,160 L894,160 L880,190 L889,190 Z\" stroke=\"black\" fill=\"gray\" stroke-linejoin=\"miter\" />\n",
       "<text x=\"897\" y=\"188\" font-size=\"7\" text-anchor=\"start\" dy=\"0em\">Φ=0.8709487696550868x</text>\n",
       "<path d=\"M775,25 L925,25\" stroke=\"darkred\" stroke-width=\"3\" fill=\"none\" />\n",
       "<path d=\"M775,275 L925,275\" stroke=\"darkred\" stroke-width=\"3\" fill=\"none\" />\n",
       "<path d=\"M925,25 L940,25\" stroke-width=\"3\" stroke=\"darkred\" stroke-linejoin=\"miter\" fill=\"none\" />\n",
       "<path d=\"M925,75 L940,75\" stroke-width=\"3\" stroke=\"darkred\" stroke-linejoin=\"miter\" fill=\"none\" />\n",
       "<path d=\"M925,125 L940,125\" stroke-width=\"3\" stroke=\"darkred\" stroke-linejoin=\"miter\" fill=\"none\" />\n",
       "<path d=\"M925,175 L940,175\" stroke-width=\"3\" stroke=\"darkred\" stroke-linejoin=\"miter\" fill=\"none\" />\n",
       "<path d=\"M925,225 L940,225\" stroke-width=\"3\" stroke=\"darkred\" stroke-linejoin=\"miter\" fill=\"none\" />\n",
       "<path d=\"M925,275 L940,275\" stroke-width=\"3\" stroke=\"darkred\" stroke-linejoin=\"miter\" fill=\"none\" />\n",
       "<text x=\"950\" y=\"28\" font-size=\"7\" text-anchor=\"end\" dy=\"0em\">0</text>\n",
       "<text x=\"950\" y=\"78\" font-size=\"7\" text-anchor=\"end\" dy=\"0em\">1</text>\n",
       "<text x=\"950\" y=\"128\" font-size=\"7\" text-anchor=\"end\" dy=\"0em\">2</text>\n",
       "<text x=\"950\" y=\"178\" font-size=\"7\" text-anchor=\"end\" dy=\"0em\">3</text>\n",
       "<text x=\"950\" y=\"228\" font-size=\"7\" text-anchor=\"end\" dy=\"0em\">4</text>\n",
       "<text x=\"950\" y=\"278\" font-size=\"7\" text-anchor=\"end\" dy=\"0em\">5</text>\n",
       "<text x=\"0\" y=\"28\" font-size=\"7\" text-anchor=\"start\" dy=\"0em\">0</text>\n",
       "<text x=\"0\" y=\"78\" font-size=\"7\" text-anchor=\"start\" dy=\"0em\">1</text>\n",
       "<text x=\"0\" y=\"128\" font-size=\"7\" text-anchor=\"start\" dy=\"0em\">2</text>\n",
       "<text x=\"0\" y=\"178\" font-size=\"7\" text-anchor=\"start\" dy=\"0em\">3</text>\n",
       "<text x=\"0\" y=\"228\" font-size=\"7\" text-anchor=\"start\" dy=\"0em\">4</text>\n",
       "<text x=\"0\" y=\"278\" font-size=\"7\" text-anchor=\"start\" dy=\"0em\">5</text>\n",
       "</svg>"
      ],
      "text/plain": [
       "<drawSvg.drawing.Drawing at 0x21407d55030>"
      ]
     },
     "execution_count": 22,
     "metadata": {},
     "output_type": "execute_result"
    }
   ],
   "source": [
    "modes = 6\n",
    "n = 1\n",
    "\n",
    "c = pcvl.Circuit.generic_interferometer(modes, lambda i: (pcvl.BS()\n",
    "                                                          .add(1, pcvl.PS(pcvl.P(f\"{random.random()}x\")))\n",
    "                                                          .add(0, pcvl.PS(pcvl.P(f\"{random.random()}x\")))\n",
    "                                                          ))\n",
    "\n",
    "pcvl.pdisplay(c)"
   ]
  },
  {
   "cell_type": "code",
   "execution_count": 23,
   "metadata": {
    "pycharm": {
     "name": "#%%\n"
    }
   },
   "outputs": [
    {
     "data": {
      "image/svg+xml": [
       "<?xml version=\"1.0\" encoding=\"UTF-8\"?>\n",
       "<svg xmlns=\"http://www.w3.org/2000/svg\" xmlns:xlink=\"http://www.w3.org/1999/xlink\"\n",
       "     width=\"1062.5\" height=\"437.5\" viewBox=\"-25 0 850 350\">\n",
       "<defs>\n",
       "</defs>\n",
       "<path d=\"M10,25 L25,25\" stroke-width=\"3\" stroke=\"darkred\" stroke-linejoin=\"miter\" fill=\"none\" />\n",
       "<path d=\"M10,75 L25,75\" stroke-width=\"3\" stroke=\"darkred\" stroke-linejoin=\"miter\" fill=\"none\" />\n",
       "<path d=\"M10,125 L25,125\" stroke-width=\"3\" stroke=\"darkred\" stroke-linejoin=\"miter\" fill=\"none\" />\n",
       "<path d=\"M10,175 L25,175\" stroke-width=\"3\" stroke=\"darkred\" stroke-linejoin=\"miter\" fill=\"none\" />\n",
       "<path d=\"M10,225 L25,225\" stroke-width=\"3\" stroke=\"darkred\" stroke-linejoin=\"miter\" fill=\"none\" />\n",
       "<path d=\"M10,275 L25,275\" stroke-width=\"3\" stroke=\"darkred\" stroke-linejoin=\"miter\" fill=\"none\" />\n",
       "<path d=\"M27,2 L1523,2 L1523,298 L27,298 Z\" stroke=\"black\" fill=\"lightblue\" stroke-dasharray=\"1,2\" stroke-linejoin=\"miter\" />\n",
       "<text x=\"29\" y=\"305\" font-size=\"8\" text-anchor=\"start\" dy=\"0em\">CPLX</text>\n",
       "<path d=\"M25,25 L325,25\" stroke-width=\"3\" stroke=\"darkred\" stroke-linejoin=\"miter\" fill=\"none\" />\n",
       "<path d=\"M25,75 L325,75\" stroke-width=\"3\" stroke=\"darkred\" stroke-linejoin=\"miter\" fill=\"none\" />\n",
       "<path d=\"M25,125 L325,125\" stroke-width=\"3\" stroke=\"darkred\" stroke-linejoin=\"miter\" fill=\"none\" />\n",
       "<path d=\"M25,175 L325,175\" stroke-width=\"3\" stroke=\"darkred\" stroke-linejoin=\"miter\" fill=\"none\" />\n",
       "<path d=\"M25,225 L325,225\" stroke-width=\"3\" stroke=\"darkred\" stroke-linejoin=\"miter\" fill=\"none\" />\n",
       "<path d=\"M25,275 L325,275\" stroke-width=\"3\" stroke=\"darkred\" stroke-linejoin=\"miter\" fill=\"none\" />\n",
       "<path d=\"M30,5 L320,5 L320,295 L30,295 Z\" stroke=\"black\" fill=\"gold\" stroke-linejoin=\"miter\" />\n",
       "<text x=\"175\" y=\"150\" font-size=\"10\" text-anchor=\"middle\" dy=\"0em\">Unitary</text>\n",
       "<path d=\"M325,25 L425,25\" stroke=\"darkred\" stroke-width=\"3\" fill=\"none\" />\n",
       "<path d=\"M325,75 L425,75\" stroke=\"darkred\" stroke-width=\"3\" fill=\"none\" />\n",
       "<path d=\"M325,125 L425,125\" stroke=\"darkred\" stroke-width=\"3\" fill=\"none\" />\n",
       "<path d=\"M325,175 L425,175\" stroke=\"darkred\" stroke-width=\"3\" fill=\"none\" />\n",
       "<path d=\"M325,225 L425,225\" stroke=\"darkred\" stroke-width=\"3\" fill=\"none\" />\n",
       "<path d=\"M325,275 L425,275\" stroke=\"darkred\" stroke-width=\"3\" fill=\"none\" />\n",
       "<path d=\"M327.5,2.5 L422.5,2.5 L422.5,297.5 L327.5,297.5 Z\" stroke=\"darkred\" fill=\"lightpink\" stroke-linejoin=\"miter\" />\n",
       "<text x=\"335\" y=\"16\" font-size=\"8\" text-anchor=\"start\" font-weight=\"bold\" dy=\"0em\">CPLX</text>\n",
       "<path d=\"M425,25 L725,25\" stroke-width=\"3\" stroke=\"darkred\" stroke-linejoin=\"miter\" fill=\"none\" />\n",
       "<path d=\"M425,75 L725,75\" stroke-width=\"3\" stroke=\"darkred\" stroke-linejoin=\"miter\" fill=\"none\" />\n",
       "<path d=\"M425,125 L725,125\" stroke-width=\"3\" stroke=\"darkred\" stroke-linejoin=\"miter\" fill=\"none\" />\n",
       "<path d=\"M425,175 L725,175\" stroke-width=\"3\" stroke=\"darkred\" stroke-linejoin=\"miter\" fill=\"none\" />\n",
       "<path d=\"M425,225 L725,225\" stroke-width=\"3\" stroke=\"darkred\" stroke-linejoin=\"miter\" fill=\"none\" />\n",
       "<path d=\"M425,275 L725,275\" stroke-width=\"3\" stroke=\"darkred\" stroke-linejoin=\"miter\" fill=\"none\" />\n",
       "<path d=\"M430,5 L720,5 L720,295 L430,295 Z\" stroke=\"black\" fill=\"gold\" stroke-linejoin=\"miter\" />\n",
       "<text x=\"575\" y=\"150\" font-size=\"10\" text-anchor=\"middle\" dy=\"0em\">Unitary</text>\n",
       "<path d=\"M725,25 L740,25\" stroke-width=\"3\" stroke=\"darkred\" stroke-linejoin=\"miter\" fill=\"none\" />\n",
       "<path d=\"M725,75 L740,75\" stroke-width=\"3\" stroke=\"darkred\" stroke-linejoin=\"miter\" fill=\"none\" />\n",
       "<path d=\"M725,125 L740,125\" stroke-width=\"3\" stroke=\"darkred\" stroke-linejoin=\"miter\" fill=\"none\" />\n",
       "<path d=\"M725,175 L740,175\" stroke-width=\"3\" stroke=\"darkred\" stroke-linejoin=\"miter\" fill=\"none\" />\n",
       "<path d=\"M725,225 L740,225\" stroke-width=\"3\" stroke=\"darkred\" stroke-linejoin=\"miter\" fill=\"none\" />\n",
       "<path d=\"M725,275 L740,275\" stroke-width=\"3\" stroke=\"darkred\" stroke-linejoin=\"miter\" fill=\"none\" />\n",
       "</svg>"
      ],
      "text/plain": [
       "<drawSvg.drawing.Drawing at 0x21407e2cbb0>"
      ]
     },
     "execution_count": 23,
     "metadata": {},
     "output_type": "execute_result"
    }
   ],
   "source": [
    "c = pcvl.Unitary(pcvl.Matrix.random_unitary(modes)) // c // pcvl.Unitary(pcvl.Matrix.random_unitary(modes))\n",
    "\n",
    "proc = pcvl.Processor(\"sim:clifford\", token)\n",
    "proc.with_input(pcvl.BasicState([1] * n + [0] * (modes - n)))\n",
    "proc.mode_post_selection(n)\n",
    "proc.thresholded_output(True)\n",
    "\n",
    "pcvl.pdisplay(proc, recursive=True)"
   ]
  },
  {
   "cell_type": "markdown",
   "metadata": {
    "pycharm": {
     "name": "#%% md\n"
    }
   },
   "source": [
    "The value of x can be changed before being multiplied by $coeff$ by setting to `param_preprocessing` a `ProcessX` function, and after this multiplication by setting a `param_postprocessing` function."
   ]
  },
  {
   "cell_type": "code",
   "execution_count": 24,
   "metadata": {
    "pycharm": {
     "name": "#%%\n"
    }
   },
   "outputs": [],
   "source": [
    "proc.set_parameters({\n",
    "    \"grid_phase_max\": 1,  # Needed to make sure we stay in the domain of definition of arccos\n",
    "    \"grid_preprocessing\": DES.ProcessX(\"arccos(x)\"),\n",
    "    \"grid_postprocessing\": DES.ProcessX(\"x ** 2 + 1\"),\n",
    "    \"brightness\": .02,  # Imperfect source\n",
    "    \"purity\": .98,\n",
    "    \"indistinguishability\": .9,\n",
    "    \"imprecision\": 1e-3\n",
    "})"
   ]
  },
  {
   "cell_type": "markdown",
   "metadata": {
    "pycharm": {
     "name": "#%% md\n"
    }
   },
   "source": [
    "We can now run again the [Solving](#Solving) part of this notebook to use this new computer."
   ]
  },
  {
   "cell_type": "markdown",
   "source": [
    "In case we want to use a pre-created scheme using the parameter field `scheme`, here is a description of the different schemes and the parameters.\n",
    "\n",
    "'scheme' can be\n",
    "- \"NR\": probabilities are computed as the result of the circuit, as if used on a Processor.\n",
    "- \"threshold\": simulates thresholded states (as if the Processor had Processor.thresholded(True))\n",
    "- \"pseudo_PNR\": mimic threshold detectors but with additional beam splitters at the end of the circuit to try to separate the photons.\n",
    "- \"post_selection\": same as pseudo_PNR, but only states having photons on the same number of modes than the number of requested photons are kept.\n",
    "\n",
    "Using a scheme value will allow to use more computation parameters:\n",
    "- \"photon_loss\": simulates loss of photons at the end of the circuit. Equivalent to loss channels.\n",
    "- \"emission_probability\": source emission_probability.\n",
    "- \"multiphoton_component\": source g2.\n",
    "- \"indistinguishability\": source indistinguishability."
   ],
   "metadata": {
    "collapsed": false,
    "pycharm": {
     "name": "#%% md\n"
    }
   }
  }
 ],
 "metadata": {
  "kernelspec": {
   "display_name": "Python 3 (ipykernel)",
   "language": "python",
   "name": "python3"
  },
  "language_info": {
   "codemirror_mode": {
    "name": "ipython",
    "version": 3
   },
   "file_extension": ".py",
   "mimetype": "text/x-python",
   "name": "python",
   "nbconvert_exporter": "python",
   "pygments_lexer": "ipython3",
   "version": "3.10.6"
  }
 },
 "nbformat": 4,
 "nbformat_minor": 1
}